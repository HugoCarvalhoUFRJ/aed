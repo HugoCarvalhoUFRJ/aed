{
  "cells": [
    {
      "cell_type": "markdown",
      "metadata": {
        "id": "NDlE--o7JhHp"
      },
      "source": [
        "# Análise Exploratória de Dados\n",
        "## Hugo Tremonte de Carvalho\n",
        "## `hugo@dme.ufrj.br`"
      ]
    },
    {
      "cell_type": "markdown",
      "metadata": {
        "id": "zAry1uJ_Jdpc"
      },
      "source": [
        "# Comandos extremamente básicos"
      ]
    },
    {
      "cell_type": "markdown",
      "metadata": {
        "id": "JqBkGP5qoS3N"
      },
      "source": [
        "Para rodar os comandos abaixo no R (ou R Studio), digite-os na linha de comendo e dê `Enter`. Para rodá-los aqui, selecione uma célula, digite o comando desejado e aperte `Ctrl + Enter` ou clique no botão de `Play` ao lado da célula."
      ]
    },
    {
      "cell_type": "markdown",
      "metadata": {
        "id": "HxTdOxO5ook2"
      },
      "source": [
        "O R funciona como uma grande calculadora:"
      ]
    },
    {
      "cell_type": "code",
      "execution_count": null,
      "metadata": {
        "colab": {
          "base_uri": "https://localhost:8080/",
          "height": 34
        },
        "id": "hNYaHNwzoQTy",
        "outputId": "f3ec1165-1407-4a69-8a4a-b5cb935309a0",
        "vscode": {
          "languageId": "r"
        }
      },
      "outputs": [
        {
          "data": {
            "text/html": [
              "7"
            ],
            "text/latex": [
              "7"
            ],
            "text/markdown": [
              "7"
            ],
            "text/plain": [
              "[1] 7"
            ]
          },
          "metadata": {},
          "output_type": "display_data"
        }
      ],
      "source": [
        "2 + 5"
      ]
    },
    {
      "cell_type": "code",
      "execution_count": null,
      "metadata": {
        "colab": {
          "base_uri": "https://localhost:8080/",
          "height": 34
        },
        "id": "O1H36VEaos8R",
        "outputId": "ae34bf93-f583-45d8-9a73-b0974869a761",
        "vscode": {
          "languageId": "r"
        }
      },
      "outputs": [
        {
          "data": {
            "text/html": [
              "3"
            ],
            "text/latex": [
              "3"
            ],
            "text/markdown": [
              "3"
            ],
            "text/plain": [
              "[1] 3"
            ]
          },
          "metadata": {},
          "output_type": "display_data"
        }
      ],
      "source": [
        "10 - 7"
      ]
    },
    {
      "cell_type": "code",
      "execution_count": null,
      "metadata": {
        "id": "RqraOzeLos5u",
        "vscode": {
          "languageId": "r"
        }
      },
      "outputs": [],
      "source": [
        "3 * 2.5 # O separador de decimal é . e não ,"
      ]
    },
    {
      "cell_type": "code",
      "execution_count": null,
      "metadata": {
        "colab": {
          "base_uri": "https://localhost:8080/",
          "height": 34
        },
        "id": "6c-htefAos3w",
        "outputId": "87d9115e-810b-4b17-872c-37898637fba6",
        "vscode": {
          "languageId": "r"
        }
      },
      "outputs": [
        {
          "data": {
            "text/html": [
              "1.66666666666667"
            ],
            "text/latex": [
              "1.66666666666667"
            ],
            "text/markdown": [
              "1.66666666666667"
            ],
            "text/plain": [
              "[1] 1.666667"
            ]
          },
          "metadata": {},
          "output_type": "display_data"
        }
      ],
      "source": [
        "10/6"
      ]
    },
    {
      "cell_type": "code",
      "execution_count": null,
      "metadata": {
        "colab": {
          "base_uri": "https://localhost:8080/",
          "height": 34
        },
        "id": "IqgP7TuPpKpx",
        "outputId": "c54df9fc-ec85-4898-8de8-767d0e4537b0",
        "vscode": {
          "languageId": "r"
        }
      },
      "outputs": [
        {
          "data": {
            "text/html": [
              "8"
            ],
            "text/latex": [
              "8"
            ],
            "text/markdown": [
              "8"
            ],
            "text/plain": [
              "[1] 8"
            ]
          },
          "metadata": {},
          "output_type": "display_data"
        }
      ],
      "source": [
        "2^3"
      ]
    },
    {
      "cell_type": "code",
      "execution_count": null,
      "metadata": {
        "colab": {
          "base_uri": "https://localhost:8080/",
          "height": 34
        },
        "id": "D9rErtmhpLiq",
        "outputId": "7e2d3520-7717-4371-b23f-92093cc417a1",
        "vscode": {
          "languageId": "r"
        }
      },
      "outputs": [
        {
          "data": {
            "text/html": [
              "8"
            ],
            "text/latex": [
              "8"
            ],
            "text/markdown": [
              "8"
            ],
            "text/plain": [
              "[1] 8"
            ]
          },
          "metadata": {},
          "output_type": "display_data"
        }
      ],
      "source": [
        "2**3"
      ]
    },
    {
      "cell_type": "markdown",
      "metadata": {
        "id": "WXYGxSIEo-tz"
      },
      "source": [
        "Tipos de dados: `character`, `numeric`, `integer`, `complex`, e `logical`\n",
        "\n",
        "Raras vezes iremos usar o tipo `integer`\n",
        "\n",
        "1i denota a unidade complexa (tipo `complex`)\n",
        "\n",
        "\n"
      ]
    },
    {
      "cell_type": "code",
      "execution_count": null,
      "metadata": {
        "colab": {
          "base_uri": "https://localhost:8080/",
          "height": 34
        },
        "id": "jIcQq52RostS",
        "outputId": "24c27e1a-4930-4a71-8ccf-289029c98564",
        "vscode": {
          "languageId": "r"
        }
      },
      "outputs": [
        {
          "data": {
            "text/html": [
              "'numeric'"
            ],
            "text/latex": [
              "'numeric'"
            ],
            "text/markdown": [
              "'numeric'"
            ],
            "text/plain": [
              "[1] \"numeric\""
            ]
          },
          "metadata": {},
          "output_type": "display_data"
        }
      ],
      "source": [
        "class(2)"
      ]
    },
    {
      "cell_type": "code",
      "execution_count": null,
      "metadata": {
        "colab": {
          "base_uri": "https://localhost:8080/",
          "height": 34
        },
        "id": "J6qIu4jXpYlj",
        "outputId": "a91c1bd5-a7b2-41cf-f7f7-da885fd624ba",
        "vscode": {
          "languageId": "r"
        }
      },
      "outputs": [
        {
          "data": {
            "text/html": [
              "'integer'"
            ],
            "text/latex": [
              "'integer'"
            ],
            "text/markdown": [
              "'integer'"
            ],
            "text/plain": [
              "[1] \"integer\""
            ]
          },
          "metadata": {},
          "output_type": "display_data"
        }
      ],
      "source": [
        "class(2L)"
      ]
    },
    {
      "cell_type": "code",
      "execution_count": null,
      "metadata": {
        "colab": {
          "base_uri": "https://localhost:8080/",
          "height": 34
        },
        "id": "9mw78VJnpaRd",
        "outputId": "2ce670e3-d5cc-4f9c-ab97-bc38fe05eb10",
        "vscode": {
          "languageId": "r"
        }
      },
      "outputs": [
        {
          "data": {
            "text/html": [
              "'character'"
            ],
            "text/latex": [
              "'character'"
            ],
            "text/markdown": [
              "'character'"
            ],
            "text/plain": [
              "[1] \"character\""
            ]
          },
          "metadata": {},
          "output_type": "display_data"
        }
      ],
      "source": [
        "class('a')"
      ]
    },
    {
      "cell_type": "code",
      "execution_count": null,
      "metadata": {
        "colab": {
          "base_uri": "https://localhost:8080/",
          "height": 34
        },
        "id": "zGHA9Wg3pcG3",
        "outputId": "09c311ba-a440-414a-d91c-087f4ce3e229",
        "vscode": {
          "languageId": "r"
        }
      },
      "outputs": [
        {
          "data": {
            "text/html": [
              "'complex'"
            ],
            "text/latex": [
              "'complex'"
            ],
            "text/markdown": [
              "'complex'"
            ],
            "text/plain": [
              "[1] \"complex\""
            ]
          },
          "metadata": {},
          "output_type": "display_data"
        }
      ],
      "source": [
        "class(1i)"
      ]
    },
    {
      "cell_type": "code",
      "execution_count": null,
      "metadata": {
        "colab": {
          "base_uri": "https://localhost:8080/",
          "height": 34
        },
        "id": "VJUY5znzpddz",
        "outputId": "754e9b0d-a13b-4ab6-e443-a1f8639cb2eb",
        "vscode": {
          "languageId": "r"
        }
      },
      "outputs": [
        {
          "data": {
            "text/html": [
              "'logical'"
            ],
            "text/latex": [
              "'logical'"
            ],
            "text/markdown": [
              "'logical'"
            ],
            "text/plain": [
              "[1] \"logical\""
            ]
          },
          "metadata": {},
          "output_type": "display_data"
        }
      ],
      "source": [
        "class(TRUE)"
      ]
    },
    {
      "cell_type": "markdown",
      "metadata": {
        "id": "0YocFjTwphg6"
      },
      "source": [
        "Verificar igualdades ou desigualdades retorna um `logical`"
      ]
    },
    {
      "cell_type": "code",
      "execution_count": null,
      "metadata": {
        "colab": {
          "base_uri": "https://localhost:8080/",
          "height": 34
        },
        "id": "dyaapBAipkWa",
        "outputId": "3cbf1067-755e-4306-b539-3eed717c701f",
        "vscode": {
          "languageId": "r"
        }
      },
      "outputs": [
        {
          "data": {
            "text/html": [
              "TRUE"
            ],
            "text/latex": [
              "TRUE"
            ],
            "text/markdown": [
              "TRUE"
            ],
            "text/plain": [
              "[1] TRUE"
            ]
          },
          "metadata": {},
          "output_type": "display_data"
        }
      ],
      "source": [
        "3==3"
      ]
    },
    {
      "cell_type": "code",
      "execution_count": null,
      "metadata": {
        "colab": {
          "base_uri": "https://localhost:8080/",
          "height": 34
        },
        "id": "VKZ1VicVpnT3",
        "outputId": "beb47866-91c5-4d75-f06b-70fb4f9cd002",
        "vscode": {
          "languageId": "r"
        }
      },
      "outputs": [
        {
          "data": {
            "text/html": [
              "FALSE"
            ],
            "text/latex": [
              "FALSE"
            ],
            "text/markdown": [
              "FALSE"
            ],
            "text/plain": [
              "[1] FALSE"
            ]
          },
          "metadata": {},
          "output_type": "display_data"
        }
      ],
      "source": [
        "4==3"
      ]
    },
    {
      "cell_type": "code",
      "execution_count": null,
      "metadata": {
        "colab": {
          "base_uri": "https://localhost:8080/",
          "height": 34
        },
        "id": "7QA18uNhpoNq",
        "outputId": "4a9d4e73-fa71-4be2-cf96-e440669875e0",
        "vscode": {
          "languageId": "r"
        }
      },
      "outputs": [
        {
          "data": {
            "text/html": [
              "TRUE"
            ],
            "text/latex": [
              "TRUE"
            ],
            "text/markdown": [
              "TRUE"
            ],
            "text/plain": [
              "[1] TRUE"
            ]
          },
          "metadata": {},
          "output_type": "display_data"
        }
      ],
      "source": [
        "3!=2"
      ]
    },
    {
      "cell_type": "code",
      "execution_count": null,
      "metadata": {
        "colab": {
          "base_uri": "https://localhost:8080/",
          "height": 34
        },
        "id": "rlPvmAMIppnS",
        "outputId": "8ab765ae-11af-4dbd-85c2-f9a692bd6cf3",
        "vscode": {
          "languageId": "r"
        }
      },
      "outputs": [
        {
          "data": {
            "text/html": [
              "FALSE"
            ],
            "text/latex": [
              "FALSE"
            ],
            "text/markdown": [
              "FALSE"
            ],
            "text/plain": [
              "[1] FALSE"
            ]
          },
          "metadata": {},
          "output_type": "display_data"
        }
      ],
      "source": [
        "4!=4"
      ]
    },
    {
      "cell_type": "code",
      "execution_count": null,
      "metadata": {
        "colab": {
          "base_uri": "https://localhost:8080/",
          "height": 34
        },
        "id": "P48tMgl_pr73",
        "outputId": "953aa649-e7bc-4cc8-cc1c-45fb85ffd3c8",
        "vscode": {
          "languageId": "r"
        }
      },
      "outputs": [
        {
          "data": {
            "text/html": [
              "TRUE"
            ],
            "text/latex": [
              "TRUE"
            ],
            "text/markdown": [
              "TRUE"
            ],
            "text/plain": [
              "[1] TRUE"
            ]
          },
          "metadata": {},
          "output_type": "display_data"
        }
      ],
      "source": [
        "2<3"
      ]
    },
    {
      "cell_type": "code",
      "execution_count": null,
      "metadata": {
        "colab": {
          "base_uri": "https://localhost:8080/",
          "height": 34
        },
        "id": "pl_gWGJYptOQ",
        "outputId": "50687144-d353-4d3a-f48f-3852e186ba29",
        "vscode": {
          "languageId": "r"
        }
      },
      "outputs": [
        {
          "data": {
            "text/html": [
              "FALSE"
            ],
            "text/latex": [
              "FALSE"
            ],
            "text/markdown": [
              "FALSE"
            ],
            "text/plain": [
              "[1] FALSE"
            ]
          },
          "metadata": {},
          "output_type": "display_data"
        }
      ],
      "source": [
        "2>2"
      ]
    },
    {
      "cell_type": "code",
      "execution_count": null,
      "metadata": {
        "colab": {
          "base_uri": "https://localhost:8080/",
          "height": 34
        },
        "id": "0el8EJVnpuaa",
        "outputId": "19e9d4f7-0624-4c72-8a87-b098fc4eb9c6",
        "vscode": {
          "languageId": "r"
        }
      },
      "outputs": [
        {
          "data": {
            "text/html": [
              "TRUE"
            ],
            "text/latex": [
              "TRUE"
            ],
            "text/markdown": [
              "TRUE"
            ],
            "text/plain": [
              "[1] TRUE"
            ]
          },
          "metadata": {},
          "output_type": "display_data"
        }
      ],
      "source": [
        "3<=4"
      ]
    },
    {
      "cell_type": "code",
      "execution_count": null,
      "metadata": {
        "colab": {
          "base_uri": "https://localhost:8080/",
          "height": 34
        },
        "id": "6eakvqb4pvUf",
        "outputId": "c953fe51-2c48-45cb-bf9f-55ce34597186",
        "vscode": {
          "languageId": "r"
        }
      },
      "outputs": [
        {
          "data": {
            "text/html": [
              "TRUE"
            ],
            "text/latex": [
              "TRUE"
            ],
            "text/markdown": [
              "TRUE"
            ],
            "text/plain": [
              "[1] TRUE"
            ]
          },
          "metadata": {},
          "output_type": "display_data"
        }
      ],
      "source": [
        "9>=9"
      ]
    },
    {
      "cell_type": "markdown",
      "metadata": {
        "id": "07-xMOkEp49Z"
      },
      "source": [
        "Notacao cientifica, ou o padrao IEEE 754 para números de ponto flutuante\n",
        "\n",
        "`5000000` é representado por `5e+06` -- leia-se \"mantissa 5 (parte decimal de um logaritmo) e expoente +06\"\n",
        "\n",
        "Para saber mais sobre o padrao IEEE 754, veja https://www.youtube.com/watch?v=p8u_k2LIZyo&t=258s\n",
        "\n",
        "De quebra, aprenda como que o Quake III foi revolucionário por conta de um algoritmo para calcular (aproximar, na verdade) $1/\\sqrt{x}$ de modo bem rápido\n",
        "\n"
      ]
    },
    {
      "cell_type": "code",
      "execution_count": null,
      "metadata": {
        "colab": {
          "base_uri": "https://localhost:8080/",
          "height": 34
        },
        "id": "-6IoL8eKp3T9",
        "outputId": "bd891c28-9304-42ea-c066-845d14c9c4a1",
        "vscode": {
          "languageId": "r"
        }
      },
      "outputs": [
        {
          "data": {
            "text/html": [
              "5e+06"
            ],
            "text/latex": [
              "5e+06"
            ],
            "text/markdown": [
              "5e+06"
            ],
            "text/plain": [
              "[1] 5e+06"
            ]
          },
          "metadata": {},
          "output_type": "display_data"
        }
      ],
      "source": [
        "5000000"
      ]
    },
    {
      "cell_type": "markdown",
      "metadata": {
        "id": "605hPbFqqZAy"
      },
      "source": [
        "O R conhece constantes importantes"
      ]
    },
    {
      "cell_type": "code",
      "execution_count": null,
      "metadata": {
        "colab": {
          "base_uri": "https://localhost:8080/",
          "height": 34
        },
        "id": "x3lYq4b7qbPT",
        "outputId": "08c96123-b70b-438a-cf00-528b207d32a2",
        "vscode": {
          "languageId": "r"
        }
      },
      "outputs": [
        {
          "data": {
            "text/html": [
              "3.14159265358979"
            ],
            "text/latex": [
              "3.14159265358979"
            ],
            "text/markdown": [
              "3.14159265358979"
            ],
            "text/plain": [
              "[1] 3.141593"
            ]
          },
          "metadata": {},
          "output_type": "display_data"
        }
      ],
      "source": [
        "pi"
      ]
    },
    {
      "cell_type": "code",
      "execution_count": null,
      "metadata": {
        "colab": {
          "base_uri": "https://localhost:8080/",
          "height": 96
        },
        "id": "ihZWrCpmqcYP",
        "outputId": "9b9acf40-69bb-4ff7-f656-d3223354754e",
        "vscode": {
          "languageId": "r"
        }
      },
      "outputs": [
        {
          "ename": "ERROR",
          "evalue": "ignored",
          "output_type": "error",
          "traceback": [
            "Error in eval(expr, envir, enclos): object 'e' not found\nTraceback:\n"
          ]
        }
      ],
      "source": [
        "e # Não funciona :-("
      ]
    },
    {
      "cell_type": "code",
      "execution_count": null,
      "metadata": {
        "colab": {
          "base_uri": "https://localhost:8080/",
          "height": 34
        },
        "id": "35pNw2bpqesg",
        "outputId": "db145862-3e2c-4fc0-d04a-a48276b3d3d1",
        "vscode": {
          "languageId": "r"
        }
      },
      "outputs": [
        {
          "data": {
            "text/html": [
              "2.71828182845905"
            ],
            "text/latex": [
              "2.71828182845905"
            ],
            "text/markdown": [
              "2.71828182845905"
            ],
            "text/plain": [
              "[1] 2.718282"
            ]
          },
          "metadata": {},
          "output_type": "display_data"
        }
      ],
      "source": [
        "exp(1) # funciona"
      ]
    },
    {
      "cell_type": "markdown",
      "metadata": {
        "id": "Ax_i_j5qqg09"
      },
      "source": [
        "Funções básicas já implementadas"
      ]
    },
    {
      "cell_type": "code",
      "execution_count": null,
      "metadata": {
        "colab": {
          "base_uri": "https://localhost:8080/",
          "height": 34
        },
        "id": "Dg9rDpU8qi_7",
        "outputId": "a676d55b-985b-468a-893f-f604b27835c5",
        "vscode": {
          "languageId": "r"
        }
      },
      "outputs": [
        {
          "data": {
            "text/html": [
              "-0.839071529076452"
            ],
            "text/latex": [
              "-0.839071529076452"
            ],
            "text/markdown": [
              "-0.839071529076452"
            ],
            "text/plain": [
              "[1] -0.8390715"
            ]
          },
          "metadata": {},
          "output_type": "display_data"
        }
      ],
      "source": [
        "cos(10)"
      ]
    },
    {
      "cell_type": "code",
      "execution_count": null,
      "metadata": {
        "colab": {
          "base_uri": "https://localhost:8080/",
          "height": 34
        },
        "id": "Ys-BautFqkQ6",
        "outputId": "955e9514-0763-4e9f-a862-7c6465f04de9",
        "vscode": {
          "languageId": "r"
        }
      },
      "outputs": [
        {
          "data": {
            "text/html": [
              "0.405465108108164"
            ],
            "text/latex": [
              "0.405465108108164"
            ],
            "text/markdown": [
              "0.405465108108164"
            ],
            "text/plain": [
              "[1] 0.4054651"
            ]
          },
          "metadata": {},
          "output_type": "display_data"
        }
      ],
      "source": [
        "log(1.5)"
      ]
    },
    {
      "cell_type": "code",
      "execution_count": null,
      "metadata": {
        "colab": {
          "base_uri": "https://localhost:8080/",
          "height": 34
        },
        "id": "2skLZ3Ekqm_n",
        "outputId": "baa3a38f-9f29-4774-9ec3-eb1c3d47c3e0",
        "vscode": {
          "languageId": "r"
        }
      },
      "outputs": [
        {
          "data": {
            "text/html": [
              "7"
            ],
            "text/latex": [
              "7"
            ],
            "text/markdown": [
              "7"
            ],
            "text/plain": [
              "[1] 7"
            ]
          },
          "metadata": {},
          "output_type": "display_data"
        }
      ],
      "source": [
        "abs(5-12)"
      ]
    },
    {
      "cell_type": "code",
      "execution_count": null,
      "metadata": {
        "colab": {
          "base_uri": "https://localhost:8080/",
          "height": 34
        },
        "id": "O5J-jUoMqoiF",
        "outputId": "3ef07f46-8054-485a-d3d1-759cc10627d3",
        "vscode": {
          "languageId": "r"
        }
      },
      "outputs": [
        {
          "data": {
            "text/html": [
              "5"
            ],
            "text/latex": [
              "5"
            ],
            "text/markdown": [
              "5"
            ],
            "text/plain": [
              "[1] 5"
            ]
          },
          "metadata": {},
          "output_type": "display_data"
        }
      ],
      "source": [
        "sqrt(25)"
      ]
    },
    {
      "cell_type": "markdown",
      "metadata": {
        "id": "MRqD0d0sqqIw"
      },
      "source": [
        "Porém, o `log` é em qual base? A função `cos` mede ângulos em graus ou radianos? Aparentemente `sqrt` calcula raiz quadrada, mas e para calcular outras raizes?"
      ]
    },
    {
      "cell_type": "code",
      "execution_count": null,
      "metadata": {
        "id": "zl2ZyctCqzl6",
        "vscode": {
          "languageId": "r"
        }
      },
      "outputs": [],
      "source": [
        "?log # Por padrão é o logaritmo natural (ln)"
      ]
    },
    {
      "cell_type": "code",
      "execution_count": null,
      "metadata": {
        "id": "6tCqLRRtq3Mu",
        "vscode": {
          "languageId": "r"
        }
      },
      "outputs": [],
      "source": [
        "?sqrt"
      ]
    },
    {
      "cell_type": "code",
      "execution_count": null,
      "metadata": {
        "id": "T9bfUXEfq24V",
        "vscode": {
          "languageId": "r"
        }
      },
      "outputs": [],
      "source": [
        "?cos"
      ]
    },
    {
      "cell_type": "code",
      "execution_count": null,
      "metadata": {
        "id": "WpWhTkYSq8gf",
        "vscode": {
          "languageId": "r"
        }
      },
      "outputs": [],
      "source": [
        "help(log) # Equivalente a ?log"
      ]
    },
    {
      "cell_type": "markdown",
      "metadata": {
        "id": "kM_l2UyMrFzM"
      },
      "source": [
        "Quer calcular uma exponencial mas não lembra qual é a função? Não tem problema!"
      ]
    },
    {
      "cell_type": "code",
      "execution_count": null,
      "metadata": {
        "id": "J57e7WtmrC5q",
        "vscode": {
          "languageId": "r"
        }
      },
      "outputs": [],
      "source": [
        "??exponential"
      ]
    },
    {
      "cell_type": "code",
      "execution_count": null,
      "metadata": {
        "id": "Y5WECvL5rI-2",
        "vscode": {
          "languageId": "r"
        }
      },
      "outputs": [],
      "source": [
        "help.search(\"exponential\")"
      ]
    },
    {
      "cell_type": "markdown",
      "metadata": {
        "id": "OkNgcLuXrNe1"
      },
      "source": [
        "Atribuir valores a variáveis. O nome da variável pode começar com letra, pode ter números, ponto e _underline_. Não pode ter vírgula, ponto-e-vírgula, traço e espaço. Operamos com variáveis da mesma forma que com números."
      ]
    },
    {
      "cell_type": "code",
      "execution_count": null,
      "metadata": {
        "id": "KeSSHEurrZ43",
        "vscode": {
          "languageId": "r"
        }
      },
      "outputs": [],
      "source": [
        "x = 10"
      ]
    },
    {
      "cell_type": "code",
      "execution_count": null,
      "metadata": {
        "id": "q45Sp8g3ra5P",
        "vscode": {
          "languageId": "r"
        }
      },
      "outputs": [],
      "source": [
        "x <- 10 # Equivalente a x = 10"
      ]
    },
    {
      "cell_type": "code",
      "execution_count": null,
      "metadata": {
        "colab": {
          "base_uri": "https://localhost:8080/",
          "height": 34
        },
        "id": "UeUjfqC_27Rf",
        "outputId": "cda8675c-12ce-4c5d-c548-db00e1395c29",
        "vscode": {
          "languageId": "r"
        }
      },
      "outputs": [
        {
          "data": {
            "text/html": [
              "100"
            ],
            "text/latex": [
              "100"
            ],
            "text/markdown": [
              "100"
            ],
            "text/plain": [
              "[1] 100"
            ]
          },
          "metadata": {},
          "output_type": "display_data"
        }
      ],
      "source": [
        "x**2"
      ]
    },
    {
      "cell_type": "markdown",
      "metadata": {
        "id": "SjClHJtyJyno"
      },
      "source": [
        "# Trabalhando com uma base de dados"
      ]
    },
    {
      "cell_type": "markdown",
      "metadata": {
        "id": "fRy6l9XeJ0lJ"
      },
      "source": [
        "Para fazer _upload_ de um arquivo para o Colab, clique no ícone com uma pasta ao lado esquerdo da tela, depois no ícone de um papel com uma seta para cima. Escolha o arquivo desejado e clique em `Abrir`."
      ]
    },
    {
      "cell_type": "code",
      "execution_count": null,
      "metadata": {
        "id": "t7q8aYcTJ0Mm",
        "vscode": {
          "languageId": "r"
        }
      },
      "outputs": [],
      "source": [
        "empresa <- read.table(\"empresa.csv\", dec = \",\", sep = \";\", h = T)"
      ]
    },
    {
      "cell_type": "code",
      "execution_count": null,
      "metadata": {
        "colab": {
          "base_uri": "https://localhost:8080/",
          "height": 1000
        },
        "id": "yQPdN_a6KrIV",
        "outputId": "f5d2b07f-9c99-4a1e-f940-6cdadab64d64",
        "vscode": {
          "languageId": "r"
        }
      },
      "outputs": [
        {
          "data": {
            "text/html": [
              "<table class=\"dataframe\">\n",
              "<caption>A data.frame: 36 × 7</caption>\n",
              "<thead>\n",
              "\t<tr><th scope=col>EstadoCivil</th><th scope=col>GrauInstrucao</th><th scope=col>Filhos</th><th scope=col>Salario</th><th scope=col>IdadeAnos</th><th scope=col>IdadeMeses</th><th scope=col>Regiao</th></tr>\n",
              "\t<tr><th scope=col>&lt;chr&gt;</th><th scope=col>&lt;chr&gt;</th><th scope=col>&lt;int&gt;</th><th scope=col>&lt;dbl&gt;</th><th scope=col>&lt;int&gt;</th><th scope=col>&lt;int&gt;</th><th scope=col>&lt;chr&gt;</th></tr>\n",
              "</thead>\n",
              "<tbody>\n",
              "\t<tr><td>solteiro</td><td>ensino fundamental</td><td>NA</td><td> 4.00</td><td>26</td><td> 3</td><td>interior</td></tr>\n",
              "\t<tr><td>casado  </td><td>ensino fundamental</td><td> 1</td><td> 4.56</td><td>32</td><td>10</td><td>capital </td></tr>\n",
              "\t<tr><td>casado  </td><td>ensino fundamental</td><td> 2</td><td> 5.25</td><td>36</td><td> 5</td><td>capital </td></tr>\n",
              "\t<tr><td>solteiro</td><td>ensino medio      </td><td>NA</td><td> 5.73</td><td>20</td><td>10</td><td>outra   </td></tr>\n",
              "\t<tr><td>solteiro</td><td>ensino fundamental</td><td>NA</td><td> 6.26</td><td>40</td><td> 7</td><td>outra   </td></tr>\n",
              "\t<tr><td>casado  </td><td>ensino fundamental</td><td> 0</td><td> 6.66</td><td>28</td><td> 0</td><td>interior</td></tr>\n",
              "\t<tr><td>solteiro</td><td>ensino fundamental</td><td>NA</td><td> 6.86</td><td>41</td><td> 0</td><td>interior</td></tr>\n",
              "\t<tr><td>solteiro</td><td>ensino fundamental</td><td>NA</td><td> 7.39</td><td>43</td><td> 4</td><td>capital </td></tr>\n",
              "\t<tr><td>casado  </td><td>ensino medio      </td><td> 1</td><td> 7.59</td><td>34</td><td>10</td><td>capital </td></tr>\n",
              "\t<tr><td>solteiro</td><td>ensino medio      </td><td>NA</td><td> 7.44</td><td>23</td><td> 6</td><td>outra   </td></tr>\n",
              "\t<tr><td>casado  </td><td>ensino medio      </td><td> 2</td><td> 8.12</td><td>33</td><td> 6</td><td>interior</td></tr>\n",
              "\t<tr><td>solteiro</td><td>ensino fundamental</td><td>NA</td><td> 8.46</td><td>27</td><td>11</td><td>capital </td></tr>\n",
              "\t<tr><td>solteiro</td><td>ensino medio      </td><td>NA</td><td> 8.74</td><td>37</td><td> 5</td><td>outra   </td></tr>\n",
              "\t<tr><td>casado  </td><td>ensino fundamental</td><td> 3</td><td> 8.95</td><td>44</td><td> 2</td><td>outra   </td></tr>\n",
              "\t<tr><td>casado  </td><td>ensino medio      </td><td> 0</td><td> 9.13</td><td>30</td><td> 5</td><td>interior</td></tr>\n",
              "\t<tr><td>solteiro</td><td>ensino medio      </td><td>NA</td><td> 9.35</td><td>38</td><td> 8</td><td>outra   </td></tr>\n",
              "\t<tr><td>casado  </td><td>ensino medio      </td><td> 1</td><td> 9.77</td><td>31</td><td> 7</td><td>capital </td></tr>\n",
              "\t<tr><td>casado  </td><td>ensino fundamental</td><td> 2</td><td> 9.80</td><td>39</td><td> 7</td><td>outra   </td></tr>\n",
              "\t<tr><td>solteiro</td><td>superior          </td><td>NA</td><td>10.53</td><td>25</td><td> 8</td><td>interior</td></tr>\n",
              "\t<tr><td>solteiro</td><td>ensino medio      </td><td>NA</td><td>10.76</td><td>37</td><td> 4</td><td>interior</td></tr>\n",
              "\t<tr><td>casado  </td><td>ensino medio      </td><td> 1</td><td>11.06</td><td>30</td><td> 9</td><td>outra   </td></tr>\n",
              "\t<tr><td>solteiro</td><td>ensino medio      </td><td>NA</td><td>11.59</td><td>34</td><td> 2</td><td>capital </td></tr>\n",
              "\t<tr><td>solteiro</td><td>ensino fundamental</td><td>NA</td><td>12.00</td><td>41</td><td> 0</td><td>outra   </td></tr>\n",
              "\t<tr><td>casado  </td><td>superior          </td><td> 0</td><td>12.79</td><td>26</td><td> 1</td><td>outra   </td></tr>\n",
              "\t<tr><td>casado  </td><td>ensino medio      </td><td> 2</td><td>13.23</td><td>32</td><td> 5</td><td>interior</td></tr>\n",
              "\t<tr><td>casado  </td><td>ensino medio      </td><td> 2</td><td>13.60</td><td>35</td><td> 0</td><td>outra   </td></tr>\n",
              "\t<tr><td>solteiro</td><td>ensino fundamental</td><td>NA</td><td>13.85</td><td>46</td><td> 7</td><td>outra   </td></tr>\n",
              "\t<tr><td>casado  </td><td>ensino medio      </td><td> 0</td><td>14.69</td><td>29</td><td> 8</td><td>interior</td></tr>\n",
              "\t<tr><td>casado  </td><td>ensino medio      </td><td> 5</td><td>14.71</td><td>40</td><td> 6</td><td>interior</td></tr>\n",
              "\t<tr><td>casado  </td><td>ensino medio      </td><td> 2</td><td>15.99</td><td>35</td><td>10</td><td>capital </td></tr>\n",
              "\t<tr><td>solteiro</td><td>superior          </td><td>NA</td><td>16.22</td><td>31</td><td> 5</td><td>outra   </td></tr>\n",
              "\t<tr><td>casado  </td><td>ensino medio      </td><td> 1</td><td>16.61</td><td>36</td><td> 4</td><td>interior</td></tr>\n",
              "\t<tr><td>casado  </td><td>superior          </td><td> 3</td><td>17.26</td><td>43</td><td> 7</td><td>capital </td></tr>\n",
              "\t<tr><td>solteiro</td><td>superior          </td><td>NA</td><td>18.75</td><td>33</td><td> 7</td><td>capital </td></tr>\n",
              "\t<tr><td>casado  </td><td>ensino medio      </td><td> 2</td><td>19.40</td><td>48</td><td>11</td><td>capital </td></tr>\n",
              "\t<tr><td>casado  </td><td>superior          </td><td> 3</td><td>23.30</td><td>42</td><td> 2</td><td>interior</td></tr>\n",
              "</tbody>\n",
              "</table>\n"
            ],
            "text/latex": [
              "A data.frame: 36 × 7\n",
              "\\begin{tabular}{lllllll}\n",
              " EstadoCivil & GrauInstrucao & Filhos & Salario & IdadeAnos & IdadeMeses & Regiao\\\\\n",
              " <chr> & <chr> & <int> & <dbl> & <int> & <int> & <chr>\\\\\n",
              "\\hline\n",
              "\t solteiro & ensino fundamental & NA &  4.00 & 26 &  3 & interior\\\\\n",
              "\t casado   & ensino fundamental &  1 &  4.56 & 32 & 10 & capital \\\\\n",
              "\t casado   & ensino fundamental &  2 &  5.25 & 36 &  5 & capital \\\\\n",
              "\t solteiro & ensino medio       & NA &  5.73 & 20 & 10 & outra   \\\\\n",
              "\t solteiro & ensino fundamental & NA &  6.26 & 40 &  7 & outra   \\\\\n",
              "\t casado   & ensino fundamental &  0 &  6.66 & 28 &  0 & interior\\\\\n",
              "\t solteiro & ensino fundamental & NA &  6.86 & 41 &  0 & interior\\\\\n",
              "\t solteiro & ensino fundamental & NA &  7.39 & 43 &  4 & capital \\\\\n",
              "\t casado   & ensino medio       &  1 &  7.59 & 34 & 10 & capital \\\\\n",
              "\t solteiro & ensino medio       & NA &  7.44 & 23 &  6 & outra   \\\\\n",
              "\t casado   & ensino medio       &  2 &  8.12 & 33 &  6 & interior\\\\\n",
              "\t solteiro & ensino fundamental & NA &  8.46 & 27 & 11 & capital \\\\\n",
              "\t solteiro & ensino medio       & NA &  8.74 & 37 &  5 & outra   \\\\\n",
              "\t casado   & ensino fundamental &  3 &  8.95 & 44 &  2 & outra   \\\\\n",
              "\t casado   & ensino medio       &  0 &  9.13 & 30 &  5 & interior\\\\\n",
              "\t solteiro & ensino medio       & NA &  9.35 & 38 &  8 & outra   \\\\\n",
              "\t casado   & ensino medio       &  1 &  9.77 & 31 &  7 & capital \\\\\n",
              "\t casado   & ensino fundamental &  2 &  9.80 & 39 &  7 & outra   \\\\\n",
              "\t solteiro & superior           & NA & 10.53 & 25 &  8 & interior\\\\\n",
              "\t solteiro & ensino medio       & NA & 10.76 & 37 &  4 & interior\\\\\n",
              "\t casado   & ensino medio       &  1 & 11.06 & 30 &  9 & outra   \\\\\n",
              "\t solteiro & ensino medio       & NA & 11.59 & 34 &  2 & capital \\\\\n",
              "\t solteiro & ensino fundamental & NA & 12.00 & 41 &  0 & outra   \\\\\n",
              "\t casado   & superior           &  0 & 12.79 & 26 &  1 & outra   \\\\\n",
              "\t casado   & ensino medio       &  2 & 13.23 & 32 &  5 & interior\\\\\n",
              "\t casado   & ensino medio       &  2 & 13.60 & 35 &  0 & outra   \\\\\n",
              "\t solteiro & ensino fundamental & NA & 13.85 & 46 &  7 & outra   \\\\\n",
              "\t casado   & ensino medio       &  0 & 14.69 & 29 &  8 & interior\\\\\n",
              "\t casado   & ensino medio       &  5 & 14.71 & 40 &  6 & interior\\\\\n",
              "\t casado   & ensino medio       &  2 & 15.99 & 35 & 10 & capital \\\\\n",
              "\t solteiro & superior           & NA & 16.22 & 31 &  5 & outra   \\\\\n",
              "\t casado   & ensino medio       &  1 & 16.61 & 36 &  4 & interior\\\\\n",
              "\t casado   & superior           &  3 & 17.26 & 43 &  7 & capital \\\\\n",
              "\t solteiro & superior           & NA & 18.75 & 33 &  7 & capital \\\\\n",
              "\t casado   & ensino medio       &  2 & 19.40 & 48 & 11 & capital \\\\\n",
              "\t casado   & superior           &  3 & 23.30 & 42 &  2 & interior\\\\\n",
              "\\end{tabular}\n"
            ],
            "text/markdown": [
              "\n",
              "A data.frame: 36 × 7\n",
              "\n",
              "| EstadoCivil &lt;chr&gt; | GrauInstrucao &lt;chr&gt; | Filhos &lt;int&gt; | Salario &lt;dbl&gt; | IdadeAnos &lt;int&gt; | IdadeMeses &lt;int&gt; | Regiao &lt;chr&gt; |\n",
              "|---|---|---|---|---|---|---|\n",
              "| solteiro | ensino fundamental | NA |  4.00 | 26 |  3 | interior |\n",
              "| casado   | ensino fundamental |  1 |  4.56 | 32 | 10 | capital  |\n",
              "| casado   | ensino fundamental |  2 |  5.25 | 36 |  5 | capital  |\n",
              "| solteiro | ensino medio       | NA |  5.73 | 20 | 10 | outra    |\n",
              "| solteiro | ensino fundamental | NA |  6.26 | 40 |  7 | outra    |\n",
              "| casado   | ensino fundamental |  0 |  6.66 | 28 |  0 | interior |\n",
              "| solteiro | ensino fundamental | NA |  6.86 | 41 |  0 | interior |\n",
              "| solteiro | ensino fundamental | NA |  7.39 | 43 |  4 | capital  |\n",
              "| casado   | ensino medio       |  1 |  7.59 | 34 | 10 | capital  |\n",
              "| solteiro | ensino medio       | NA |  7.44 | 23 |  6 | outra    |\n",
              "| casado   | ensino medio       |  2 |  8.12 | 33 |  6 | interior |\n",
              "| solteiro | ensino fundamental | NA |  8.46 | 27 | 11 | capital  |\n",
              "| solteiro | ensino medio       | NA |  8.74 | 37 |  5 | outra    |\n",
              "| casado   | ensino fundamental |  3 |  8.95 | 44 |  2 | outra    |\n",
              "| casado   | ensino medio       |  0 |  9.13 | 30 |  5 | interior |\n",
              "| solteiro | ensino medio       | NA |  9.35 | 38 |  8 | outra    |\n",
              "| casado   | ensino medio       |  1 |  9.77 | 31 |  7 | capital  |\n",
              "| casado   | ensino fundamental |  2 |  9.80 | 39 |  7 | outra    |\n",
              "| solteiro | superior           | NA | 10.53 | 25 |  8 | interior |\n",
              "| solteiro | ensino medio       | NA | 10.76 | 37 |  4 | interior |\n",
              "| casado   | ensino medio       |  1 | 11.06 | 30 |  9 | outra    |\n",
              "| solteiro | ensino medio       | NA | 11.59 | 34 |  2 | capital  |\n",
              "| solteiro | ensino fundamental | NA | 12.00 | 41 |  0 | outra    |\n",
              "| casado   | superior           |  0 | 12.79 | 26 |  1 | outra    |\n",
              "| casado   | ensino medio       |  2 | 13.23 | 32 |  5 | interior |\n",
              "| casado   | ensino medio       |  2 | 13.60 | 35 |  0 | outra    |\n",
              "| solteiro | ensino fundamental | NA | 13.85 | 46 |  7 | outra    |\n",
              "| casado   | ensino medio       |  0 | 14.69 | 29 |  8 | interior |\n",
              "| casado   | ensino medio       |  5 | 14.71 | 40 |  6 | interior |\n",
              "| casado   | ensino medio       |  2 | 15.99 | 35 | 10 | capital  |\n",
              "| solteiro | superior           | NA | 16.22 | 31 |  5 | outra    |\n",
              "| casado   | ensino medio       |  1 | 16.61 | 36 |  4 | interior |\n",
              "| casado   | superior           |  3 | 17.26 | 43 |  7 | capital  |\n",
              "| solteiro | superior           | NA | 18.75 | 33 |  7 | capital  |\n",
              "| casado   | ensino medio       |  2 | 19.40 | 48 | 11 | capital  |\n",
              "| casado   | superior           |  3 | 23.30 | 42 |  2 | interior |\n",
              "\n"
            ],
            "text/plain": [
              "   EstadoCivil GrauInstrucao      Filhos Salario IdadeAnos IdadeMeses Regiao  \n",
              "1  solteiro    ensino fundamental NA      4.00   26         3         interior\n",
              "2  casado      ensino fundamental  1      4.56   32        10         capital \n",
              "3  casado      ensino fundamental  2      5.25   36         5         capital \n",
              "4  solteiro    ensino medio       NA      5.73   20        10         outra   \n",
              "5  solteiro    ensino fundamental NA      6.26   40         7         outra   \n",
              "6  casado      ensino fundamental  0      6.66   28         0         interior\n",
              "7  solteiro    ensino fundamental NA      6.86   41         0         interior\n",
              "8  solteiro    ensino fundamental NA      7.39   43         4         capital \n",
              "9  casado      ensino medio        1      7.59   34        10         capital \n",
              "10 solteiro    ensino medio       NA      7.44   23         6         outra   \n",
              "11 casado      ensino medio        2      8.12   33         6         interior\n",
              "12 solteiro    ensino fundamental NA      8.46   27        11         capital \n",
              "13 solteiro    ensino medio       NA      8.74   37         5         outra   \n",
              "14 casado      ensino fundamental  3      8.95   44         2         outra   \n",
              "15 casado      ensino medio        0      9.13   30         5         interior\n",
              "16 solteiro    ensino medio       NA      9.35   38         8         outra   \n",
              "17 casado      ensino medio        1      9.77   31         7         capital \n",
              "18 casado      ensino fundamental  2      9.80   39         7         outra   \n",
              "19 solteiro    superior           NA     10.53   25         8         interior\n",
              "20 solteiro    ensino medio       NA     10.76   37         4         interior\n",
              "21 casado      ensino medio        1     11.06   30         9         outra   \n",
              "22 solteiro    ensino medio       NA     11.59   34         2         capital \n",
              "23 solteiro    ensino fundamental NA     12.00   41         0         outra   \n",
              "24 casado      superior            0     12.79   26         1         outra   \n",
              "25 casado      ensino medio        2     13.23   32         5         interior\n",
              "26 casado      ensino medio        2     13.60   35         0         outra   \n",
              "27 solteiro    ensino fundamental NA     13.85   46         7         outra   \n",
              "28 casado      ensino medio        0     14.69   29         8         interior\n",
              "29 casado      ensino medio        5     14.71   40         6         interior\n",
              "30 casado      ensino medio        2     15.99   35        10         capital \n",
              "31 solteiro    superior           NA     16.22   31         5         outra   \n",
              "32 casado      ensino medio        1     16.61   36         4         interior\n",
              "33 casado      superior            3     17.26   43         7         capital \n",
              "34 solteiro    superior           NA     18.75   33         7         capital \n",
              "35 casado      ensino medio        2     19.40   48        11         capital \n",
              "36 casado      superior            3     23.30   42         2         interior"
            ]
          },
          "metadata": {},
          "output_type": "display_data"
        }
      ],
      "source": [
        "empresa"
      ]
    },
    {
      "cell_type": "code",
      "execution_count": null,
      "metadata": {
        "colab": {
          "base_uri": "https://localhost:8080/",
          "height": 286
        },
        "id": "FR4vXzMJLsy3",
        "outputId": "12e7cbf6-30c7-4dd2-81e2-7097782f6850",
        "vscode": {
          "languageId": "r"
        }
      },
      "outputs": [
        {
          "data": {
            "text/html": [
              "<table class=\"dataframe\">\n",
              "<caption>A data.frame: 6 × 7</caption>\n",
              "<thead>\n",
              "\t<tr><th></th><th scope=col>EstadoCivil</th><th scope=col>GrauInstrucao</th><th scope=col>Filhos</th><th scope=col>Salario</th><th scope=col>IdadeAnos</th><th scope=col>IdadeMeses</th><th scope=col>Regiao</th></tr>\n",
              "\t<tr><th></th><th scope=col>&lt;chr&gt;</th><th scope=col>&lt;chr&gt;</th><th scope=col>&lt;int&gt;</th><th scope=col>&lt;dbl&gt;</th><th scope=col>&lt;int&gt;</th><th scope=col>&lt;int&gt;</th><th scope=col>&lt;chr&gt;</th></tr>\n",
              "</thead>\n",
              "<tbody>\n",
              "\t<tr><th scope=row>1</th><td>solteiro</td><td>ensino fundamental</td><td>NA</td><td>4.00</td><td>26</td><td> 3</td><td>interior</td></tr>\n",
              "\t<tr><th scope=row>2</th><td>casado  </td><td>ensino fundamental</td><td> 1</td><td>4.56</td><td>32</td><td>10</td><td>capital </td></tr>\n",
              "\t<tr><th scope=row>3</th><td>casado  </td><td>ensino fundamental</td><td> 2</td><td>5.25</td><td>36</td><td> 5</td><td>capital </td></tr>\n",
              "\t<tr><th scope=row>4</th><td>solteiro</td><td>ensino medio      </td><td>NA</td><td>5.73</td><td>20</td><td>10</td><td>outra   </td></tr>\n",
              "\t<tr><th scope=row>5</th><td>solteiro</td><td>ensino fundamental</td><td>NA</td><td>6.26</td><td>40</td><td> 7</td><td>outra   </td></tr>\n",
              "\t<tr><th scope=row>6</th><td>casado  </td><td>ensino fundamental</td><td> 0</td><td>6.66</td><td>28</td><td> 0</td><td>interior</td></tr>\n",
              "</tbody>\n",
              "</table>\n"
            ],
            "text/latex": [
              "A data.frame: 6 × 7\n",
              "\\begin{tabular}{r|lllllll}\n",
              "  & EstadoCivil & GrauInstrucao & Filhos & Salario & IdadeAnos & IdadeMeses & Regiao\\\\\n",
              "  & <chr> & <chr> & <int> & <dbl> & <int> & <int> & <chr>\\\\\n",
              "\\hline\n",
              "\t1 & solteiro & ensino fundamental & NA & 4.00 & 26 &  3 & interior\\\\\n",
              "\t2 & casado   & ensino fundamental &  1 & 4.56 & 32 & 10 & capital \\\\\n",
              "\t3 & casado   & ensino fundamental &  2 & 5.25 & 36 &  5 & capital \\\\\n",
              "\t4 & solteiro & ensino medio       & NA & 5.73 & 20 & 10 & outra   \\\\\n",
              "\t5 & solteiro & ensino fundamental & NA & 6.26 & 40 &  7 & outra   \\\\\n",
              "\t6 & casado   & ensino fundamental &  0 & 6.66 & 28 &  0 & interior\\\\\n",
              "\\end{tabular}\n"
            ],
            "text/markdown": [
              "\n",
              "A data.frame: 6 × 7\n",
              "\n",
              "| <!--/--> | EstadoCivil &lt;chr&gt; | GrauInstrucao &lt;chr&gt; | Filhos &lt;int&gt; | Salario &lt;dbl&gt; | IdadeAnos &lt;int&gt; | IdadeMeses &lt;int&gt; | Regiao &lt;chr&gt; |\n",
              "|---|---|---|---|---|---|---|---|\n",
              "| 1 | solteiro | ensino fundamental | NA | 4.00 | 26 |  3 | interior |\n",
              "| 2 | casado   | ensino fundamental |  1 | 4.56 | 32 | 10 | capital  |\n",
              "| 3 | casado   | ensino fundamental |  2 | 5.25 | 36 |  5 | capital  |\n",
              "| 4 | solteiro | ensino medio       | NA | 5.73 | 20 | 10 | outra    |\n",
              "| 5 | solteiro | ensino fundamental | NA | 6.26 | 40 |  7 | outra    |\n",
              "| 6 | casado   | ensino fundamental |  0 | 6.66 | 28 |  0 | interior |\n",
              "\n"
            ],
            "text/plain": [
              "  EstadoCivil GrauInstrucao      Filhos Salario IdadeAnos IdadeMeses Regiao  \n",
              "1 solteiro    ensino fundamental NA     4.00    26         3         interior\n",
              "2 casado      ensino fundamental  1     4.56    32        10         capital \n",
              "3 casado      ensino fundamental  2     5.25    36         5         capital \n",
              "4 solteiro    ensino medio       NA     5.73    20        10         outra   \n",
              "5 solteiro    ensino fundamental NA     6.26    40         7         outra   \n",
              "6 casado      ensino fundamental  0     6.66    28         0         interior"
            ]
          },
          "metadata": {},
          "output_type": "display_data"
        }
      ],
      "source": [
        "head(empresa) # Mostra somente o comecinho da tabela"
      ]
    },
    {
      "cell_type": "code",
      "execution_count": null,
      "metadata": {
        "colab": {
          "base_uri": "https://localhost:8080/",
          "height": 34
        },
        "id": "DfngoPFiLoBZ",
        "outputId": "35286681-34f9-422f-cf06-19ed501ec5a4",
        "vscode": {
          "languageId": "r"
        }
      },
      "outputs": [
        {
          "data": {
            "text/html": [
              "<style>\n",
              ".list-inline {list-style: none; margin:0; padding: 0}\n",
              ".list-inline>li {display: inline-block}\n",
              ".list-inline>li:not(:last-child)::after {content: \"\\00b7\"; padding: 0 .5ex}\n",
              "</style>\n",
              "<ol class=list-inline><li>'EstadoCivil'</li><li>'GrauInstrucao'</li><li>'Filhos'</li><li>'Salario'</li><li>'IdadeAnos'</li><li>'IdadeMeses'</li><li>'Regiao'</li></ol>\n"
            ],
            "text/latex": [
              "\\begin{enumerate*}\n",
              "\\item 'EstadoCivil'\n",
              "\\item 'GrauInstrucao'\n",
              "\\item 'Filhos'\n",
              "\\item 'Salario'\n",
              "\\item 'IdadeAnos'\n",
              "\\item 'IdadeMeses'\n",
              "\\item 'Regiao'\n",
              "\\end{enumerate*}\n"
            ],
            "text/markdown": [
              "1. 'EstadoCivil'\n",
              "2. 'GrauInstrucao'\n",
              "3. 'Filhos'\n",
              "4. 'Salario'\n",
              "5. 'IdadeAnos'\n",
              "6. 'IdadeMeses'\n",
              "7. 'Regiao'\n",
              "\n",
              "\n"
            ],
            "text/plain": [
              "[1] \"EstadoCivil\"   \"GrauInstrucao\" \"Filhos\"        \"Salario\"      \n",
              "[5] \"IdadeAnos\"     \"IdadeMeses\"    \"Regiao\"       "
            ]
          },
          "metadata": {},
          "output_type": "display_data"
        }
      ],
      "source": [
        "names(empresa)"
      ]
    },
    {
      "cell_type": "markdown",
      "metadata": {
        "id": "5EbiuST5M1g6"
      },
      "source": [
        "## Sumários em tabelas: distribuição de frequências"
      ]
    },
    {
      "cell_type": "markdown",
      "metadata": {
        "id": "c04FT257N0Cw"
      },
      "source": [
        "### Variáveis qualitativas"
      ]
    },
    {
      "cell_type": "code",
      "execution_count": null,
      "metadata": {
        "id": "Qyk64lbEM5F2",
        "vscode": {
          "languageId": "r"
        }
      },
      "outputs": [],
      "source": [
        "tabela_ensino <- table(empresa$GrauInstrucao)"
      ]
    },
    {
      "cell_type": "code",
      "execution_count": null,
      "metadata": {
        "colab": {
          "base_uri": "https://localhost:8080/",
          "height": 69
        },
        "id": "Z7TdhPEvOxXF",
        "outputId": "4acedf7e-1588-4fd5-a72e-c5b271720649",
        "vscode": {
          "languageId": "r"
        }
      },
      "outputs": [
        {
          "data": {
            "text/plain": [
              "\n",
              "ensino fundamental       ensino medio           superior \n",
              "                12                 18                  6 "
            ]
          },
          "metadata": {},
          "output_type": "display_data"
        }
      ],
      "source": [
        "tabela_ensino"
      ]
    },
    {
      "cell_type": "code",
      "execution_count": null,
      "metadata": {
        "colab": {
          "base_uri": "https://localhost:8080/",
          "height": 69
        },
        "id": "46I0cHg4OkOe",
        "outputId": "b90789a7-b043-4532-8877-f97cc5001a34",
        "vscode": {
          "languageId": "r"
        }
      },
      "outputs": [
        {
          "data": {
            "text/plain": [
              "\n",
              "ensino fundamental       ensino medio           superior \n",
              "         0.3333333          0.5000000          0.1666667 "
            ]
          },
          "metadata": {},
          "output_type": "display_data"
        }
      ],
      "source": [
        "prop.table(tabela_ensino)"
      ]
    },
    {
      "cell_type": "code",
      "execution_count": null,
      "metadata": {
        "colab": {
          "base_uri": "https://localhost:8080/",
          "height": 69
        },
        "id": "eC6MCwm8O8Xe",
        "outputId": "0587fb80-f810-4c5a-b252-ed40a7edbeeb",
        "vscode": {
          "languageId": "r"
        }
      },
      "outputs": [
        {
          "data": {
            "text/plain": [
              "\n",
              "ensino fundamental       ensino medio           superior \n",
              "          33.33333           50.00000           16.66667 "
            ]
          },
          "metadata": {},
          "output_type": "display_data"
        }
      ],
      "source": [
        "100*prop.table(tabela_ensino)"
      ]
    },
    {
      "cell_type": "markdown",
      "metadata": {
        "id": "-IDlStdlaBlq"
      },
      "source": [
        "### Variáveis quantitativas"
      ]
    },
    {
      "cell_type": "code",
      "execution_count": null,
      "metadata": {
        "id": "k6WcY1-eY6T3",
        "vscode": {
          "languageId": "r"
        }
      },
      "outputs": [],
      "source": [
        "tabela_salarios <- table(empresa$Salario)"
      ]
    },
    {
      "cell_type": "code",
      "execution_count": null,
      "metadata": {
        "colab": {
          "base_uri": "https://localhost:8080/",
          "height": 138
        },
        "id": "-36ueUpcaMfG",
        "outputId": "d20de757-19e5-4246-c8ee-599373201699",
        "vscode": {
          "languageId": "r"
        }
      },
      "outputs": [
        {
          "data": {
            "text/plain": [
              "\n",
              "    4  4.56  5.25  5.73  6.26  6.66  6.86  7.39  7.44  7.59  8.12  8.46  8.74 \n",
              "    1     1     1     1     1     1     1     1     1     1     1     1     1 \n",
              " 8.95  9.13  9.35  9.77   9.8 10.53 10.76 11.06 11.59    12 12.79 13.23  13.6 \n",
              "    1     1     1     1     1     1     1     1     1     1     1     1     1 \n",
              "13.85 14.69 14.71 15.99 16.22 16.61 17.26 18.75  19.4  23.3 \n",
              "    1     1     1     1     1     1     1     1     1     1 "
            ]
          },
          "metadata": {},
          "output_type": "display_data"
        }
      ],
      "source": [
        "tabela_salarios # Só há uma observação com cada salário! Não faz sentido esse sumário..."
      ]
    },
    {
      "cell_type": "code",
      "execution_count": null,
      "metadata": {
        "colab": {
          "base_uri": "https://localhost:8080/",
          "height": 69
        },
        "id": "Ge6FiyvWaQjg",
        "outputId": "b1c80308-125a-4f50-ce23-5e3733f89b35",
        "vscode": {
          "languageId": "r"
        }
      },
      "outputs": [
        {
          "data": {
            "text/html": [
              "<style>\n",
              ".list-inline {list-style: none; margin:0; padding: 0}\n",
              ".list-inline>li {display: inline-block}\n",
              ".list-inline>li:not(:last-child)::after {content: \"\\00b7\"; padding: 0 .5ex}\n",
              "</style>\n",
              "<ol class=list-inline><li>[4,8)</li><li>[4,8)</li><li>[4,8)</li><li>[4,8)</li><li>[4,8)</li><li>[4,8)</li><li>[4,8)</li><li>[4,8)</li><li>[4,8)</li><li>[4,8)</li><li>[8,12)</li><li>[8,12)</li><li>[8,12)</li><li>[8,12)</li><li>[8,12)</li><li>[8,12)</li><li>[8,12)</li><li>[8,12)</li><li>[8,12)</li><li>[8,12)</li><li>[8,12)</li><li>[8,12)</li><li>[12,16)</li><li>[12,16)</li><li>[12,16)</li><li>[12,16)</li><li>[12,16)</li><li>[12,16)</li><li>[12,16)</li><li>[12,16)</li><li>[16,20)</li><li>[16,20)</li><li>[16,20)</li><li>[16,20)</li><li>[16,20)</li><li>[20,24)</li></ol>\n",
              "\n",
              "<details>\n",
              "\t<summary style=display:list-item;cursor:pointer>\n",
              "\t\t<strong>Levels</strong>:\n",
              "\t</summary>\n",
              "\t<style>\n",
              "\t.list-inline {list-style: none; margin:0; padding: 0}\n",
              "\t.list-inline>li {display: inline-block}\n",
              "\t.list-inline>li:not(:last-child)::after {content: \"\\00b7\"; padding: 0 .5ex}\n",
              "\t</style>\n",
              "\t<ol class=list-inline><li>'[4,8)'</li><li>'[8,12)'</li><li>'[12,16)'</li><li>'[16,20)'</li><li>'[20,24)'</li></ol>\n",
              "</details>"
            ],
            "text/latex": [
              "\\begin{enumerate*}\n",
              "\\item {[}4,8)\n",
              "\\item {[}4,8)\n",
              "\\item {[}4,8)\n",
              "\\item {[}4,8)\n",
              "\\item {[}4,8)\n",
              "\\item {[}4,8)\n",
              "\\item {[}4,8)\n",
              "\\item {[}4,8)\n",
              "\\item {[}4,8)\n",
              "\\item {[}4,8)\n",
              "\\item {[}8,12)\n",
              "\\item {[}8,12)\n",
              "\\item {[}8,12)\n",
              "\\item {[}8,12)\n",
              "\\item {[}8,12)\n",
              "\\item {[}8,12)\n",
              "\\item {[}8,12)\n",
              "\\item {[}8,12)\n",
              "\\item {[}8,12)\n",
              "\\item {[}8,12)\n",
              "\\item {[}8,12)\n",
              "\\item {[}8,12)\n",
              "\\item {[}12,16)\n",
              "\\item {[}12,16)\n",
              "\\item {[}12,16)\n",
              "\\item {[}12,16)\n",
              "\\item {[}12,16)\n",
              "\\item {[}12,16)\n",
              "\\item {[}12,16)\n",
              "\\item {[}12,16)\n",
              "\\item {[}16,20)\n",
              "\\item {[}16,20)\n",
              "\\item {[}16,20)\n",
              "\\item {[}16,20)\n",
              "\\item {[}16,20)\n",
              "\\item {[}20,24)\n",
              "\\end{enumerate*}\n",
              "\n",
              "\\emph{Levels}: \\begin{enumerate*}\n",
              "\\item '{[}4,8)'\n",
              "\\item '{[}8,12)'\n",
              "\\item '{[}12,16)'\n",
              "\\item '{[}16,20)'\n",
              "\\item '{[}20,24)'\n",
              "\\end{enumerate*}\n"
            ],
            "text/markdown": [
              "1. [4,8)\n",
              "2. [4,8)\n",
              "3. [4,8)\n",
              "4. [4,8)\n",
              "5. [4,8)\n",
              "6. [4,8)\n",
              "7. [4,8)\n",
              "8. [4,8)\n",
              "9. [4,8)\n",
              "10. [4,8)\n",
              "11. [8,12)\n",
              "12. [8,12)\n",
              "13. [8,12)\n",
              "14. [8,12)\n",
              "15. [8,12)\n",
              "16. [8,12)\n",
              "17. [8,12)\n",
              "18. [8,12)\n",
              "19. [8,12)\n",
              "20. [8,12)\n",
              "21. [8,12)\n",
              "22. [8,12)\n",
              "23. [12,16)\n",
              "24. [12,16)\n",
              "25. [12,16)\n",
              "26. [12,16)\n",
              "27. [12,16)\n",
              "28. [12,16)\n",
              "29. [12,16)\n",
              "30. [12,16)\n",
              "31. [16,20)\n",
              "32. [16,20)\n",
              "33. [16,20)\n",
              "34. [16,20)\n",
              "35. [16,20)\n",
              "36. [20,24)\n",
              "\n",
              "\n",
              "\n",
              "**Levels**: 1. '[4,8)'\n",
              "2. '[8,12)'\n",
              "3. '[12,16)'\n",
              "4. '[16,20)'\n",
              "5. '[20,24)'\n",
              "\n",
              "\n"
            ],
            "text/plain": [
              " [1] [4,8)   [4,8)   [4,8)   [4,8)   [4,8)   [4,8)   [4,8)   [4,8)   [4,8)  \n",
              "[10] [4,8)   [8,12)  [8,12)  [8,12)  [8,12)  [8,12)  [8,12)  [8,12)  [8,12) \n",
              "[19] [8,12)  [8,12)  [8,12)  [8,12)  [12,16) [12,16) [12,16) [12,16) [12,16)\n",
              "[28] [12,16) [12,16) [12,16) [16,20) [16,20) [16,20) [16,20) [16,20) [20,24)\n",
              "Levels: [4,8) [8,12) [12,16) [16,20) [20,24)"
            ]
          },
          "metadata": {},
          "output_type": "display_data"
        }
      ],
      "source": [
        "cut(empresa$Salario, breaks = seq(4, 24, by = 4), right = FALSE)"
      ]
    },
    {
      "cell_type": "markdown",
      "metadata": {
        "id": "o831kaLnaviR"
      },
      "source": [
        "Vamos entender esse comando:"
      ]
    },
    {
      "cell_type": "code",
      "execution_count": null,
      "metadata": {
        "colab": {
          "base_uri": "https://localhost:8080/",
          "height": 295
        },
        "id": "2J2FdqTaaxzs",
        "outputId": "94bdd66b-a33b-451e-c24e-a044b992e5bb",
        "vscode": {
          "languageId": "r"
        }
      },
      "outputs": [
        {
          "data": {
            "text/plain": [
              " EstadoCivil        GrauInstrucao          Filhos        Salario      \n",
              " Length:36          Length:36          Min.   :0.00   Min.   : 4.000  \n",
              " Class :character   Class :character   1st Qu.:1.00   1st Qu.: 7.553  \n",
              " Mode  :character   Mode  :character   Median :2.00   Median :10.165  \n",
              "                                       Mean   :1.65   Mean   :11.122  \n",
              "                                       3rd Qu.:2.00   3rd Qu.:14.060  \n",
              "                                       Max.   :5.00   Max.   :23.300  \n",
              "                                       NA's   :16                     \n",
              "   IdadeAnos       IdadeMeses        Regiao         \n",
              " Min.   :20.00   Min.   : 0.000   Length:36         \n",
              " 1st Qu.:30.00   1st Qu.: 3.750   Class :character  \n",
              " Median :34.50   Median : 6.000   Mode  :character  \n",
              " Mean   :34.58   Mean   : 5.611                     \n",
              " 3rd Qu.:40.00   3rd Qu.: 8.000                     \n",
              " Max.   :48.00   Max.   :11.000                     \n",
              "                                                    "
            ]
          },
          "metadata": {},
          "output_type": "display_data"
        }
      ],
      "source": [
        "summary(empresa)"
      ]
    },
    {
      "cell_type": "code",
      "execution_count": null,
      "metadata": {
        "colab": {
          "base_uri": "https://localhost:8080/",
          "height": 52
        },
        "id": "DDmoCKfWa24K",
        "outputId": "95e20c4d-835c-464a-d122-c35be8b9604d",
        "vscode": {
          "languageId": "r"
        }
      },
      "outputs": [
        {
          "data": {
            "text/plain": [
              "   Min. 1st Qu.  Median    Mean 3rd Qu.    Max. \n",
              "  4.000   7.553  10.165  11.122  14.060  23.300 "
            ]
          },
          "metadata": {},
          "output_type": "display_data"
        }
      ],
      "source": [
        "summary(empresa$Salario)"
      ]
    },
    {
      "cell_type": "code",
      "execution_count": null,
      "metadata": {
        "colab": {
          "base_uri": "https://localhost:8080/",
          "height": 34
        },
        "id": "hU2CKKwBan_n",
        "outputId": "b7f130d2-28c8-4fb6-b073-67f7aaa65db4",
        "vscode": {
          "languageId": "r"
        }
      },
      "outputs": [
        {
          "data": {
            "text/html": [
              "<style>\n",
              ".list-inline {list-style: none; margin:0; padding: 0}\n",
              ".list-inline>li {display: inline-block}\n",
              ".list-inline>li:not(:last-child)::after {content: \"\\00b7\"; padding: 0 .5ex}\n",
              "</style>\n",
              "<ol class=list-inline><li>4</li><li>8</li><li>12</li><li>16</li><li>20</li><li>24</li></ol>\n"
            ],
            "text/latex": [
              "\\begin{enumerate*}\n",
              "\\item 4\n",
              "\\item 8\n",
              "\\item 12\n",
              "\\item 16\n",
              "\\item 20\n",
              "\\item 24\n",
              "\\end{enumerate*}\n"
            ],
            "text/markdown": [
              "1. 4\n",
              "2. 8\n",
              "3. 12\n",
              "4. 16\n",
              "5. 20\n",
              "6. 24\n",
              "\n",
              "\n"
            ],
            "text/plain": [
              "[1]  4  8 12 16 20 24"
            ]
          },
          "metadata": {},
          "output_type": "display_data"
        }
      ],
      "source": [
        "seq(4, 24, by = 4)"
      ]
    },
    {
      "cell_type": "code",
      "execution_count": null,
      "metadata": {
        "colab": {
          "base_uri": "https://localhost:8080/",
          "height": 69
        },
        "id": "oXaZVQmfabBS",
        "outputId": "8704fdaa-1cb3-464b-bd7c-aeb1005b5d78",
        "vscode": {
          "languageId": "r"
        }
      },
      "outputs": [
        {
          "data": {
            "text/html": [
              "<style>\n",
              ".list-inline {list-style: none; margin:0; padding: 0}\n",
              ".list-inline>li {display: inline-block}\n",
              ".list-inline>li:not(:last-child)::after {content: \"\\00b7\"; padding: 0 .5ex}\n",
              "</style>\n",
              "<ol class=list-inline><li>&lt;NA&gt;</li><li>(4,8]</li><li>(4,8]</li><li>(4,8]</li><li>(4,8]</li><li>(4,8]</li><li>(4,8]</li><li>(4,8]</li><li>(4,8]</li><li>(4,8]</li><li>(8,12]</li><li>(8,12]</li><li>(8,12]</li><li>(8,12]</li><li>(8,12]</li><li>(8,12]</li><li>(8,12]</li><li>(8,12]</li><li>(8,12]</li><li>(8,12]</li><li>(8,12]</li><li>(8,12]</li><li>(8,12]</li><li>(12,16]</li><li>(12,16]</li><li>(12,16]</li><li>(12,16]</li><li>(12,16]</li><li>(12,16]</li><li>(12,16]</li><li>(16,20]</li><li>(16,20]</li><li>(16,20]</li><li>(16,20]</li><li>(16,20]</li><li>(20,24]</li></ol>\n",
              "\n",
              "<details>\n",
              "\t<summary style=display:list-item;cursor:pointer>\n",
              "\t\t<strong>Levels</strong>:\n",
              "\t</summary>\n",
              "\t<style>\n",
              "\t.list-inline {list-style: none; margin:0; padding: 0}\n",
              "\t.list-inline>li {display: inline-block}\n",
              "\t.list-inline>li:not(:last-child)::after {content: \"\\00b7\"; padding: 0 .5ex}\n",
              "\t</style>\n",
              "\t<ol class=list-inline><li>'(4,8]'</li><li>'(8,12]'</li><li>'(12,16]'</li><li>'(16,20]'</li><li>'(20,24]'</li></ol>\n",
              "</details>"
            ],
            "text/latex": [
              "\\begin{enumerate*}\n",
              "\\item <NA>\n",
              "\\item (4,8{]}\n",
              "\\item (4,8{]}\n",
              "\\item (4,8{]}\n",
              "\\item (4,8{]}\n",
              "\\item (4,8{]}\n",
              "\\item (4,8{]}\n",
              "\\item (4,8{]}\n",
              "\\item (4,8{]}\n",
              "\\item (4,8{]}\n",
              "\\item (8,12{]}\n",
              "\\item (8,12{]}\n",
              "\\item (8,12{]}\n",
              "\\item (8,12{]}\n",
              "\\item (8,12{]}\n",
              "\\item (8,12{]}\n",
              "\\item (8,12{]}\n",
              "\\item (8,12{]}\n",
              "\\item (8,12{]}\n",
              "\\item (8,12{]}\n",
              "\\item (8,12{]}\n",
              "\\item (8,12{]}\n",
              "\\item (8,12{]}\n",
              "\\item (12,16{]}\n",
              "\\item (12,16{]}\n",
              "\\item (12,16{]}\n",
              "\\item (12,16{]}\n",
              "\\item (12,16{]}\n",
              "\\item (12,16{]}\n",
              "\\item (12,16{]}\n",
              "\\item (16,20{]}\n",
              "\\item (16,20{]}\n",
              "\\item (16,20{]}\n",
              "\\item (16,20{]}\n",
              "\\item (16,20{]}\n",
              "\\item (20,24{]}\n",
              "\\end{enumerate*}\n",
              "\n",
              "\\emph{Levels}: \\begin{enumerate*}\n",
              "\\item '(4,8{]}'\n",
              "\\item '(8,12{]}'\n",
              "\\item '(12,16{]}'\n",
              "\\item '(16,20{]}'\n",
              "\\item '(20,24{]}'\n",
              "\\end{enumerate*}\n"
            ],
            "text/markdown": [
              "1. &lt;NA&gt;\n",
              "2. (4,8]\n",
              "3. (4,8]\n",
              "4. (4,8]\n",
              "5. (4,8]\n",
              "6. (4,8]\n",
              "7. (4,8]\n",
              "8. (4,8]\n",
              "9. (4,8]\n",
              "10. (4,8]\n",
              "11. (8,12]\n",
              "12. (8,12]\n",
              "13. (8,12]\n",
              "14. (8,12]\n",
              "15. (8,12]\n",
              "16. (8,12]\n",
              "17. (8,12]\n",
              "18. (8,12]\n",
              "19. (8,12]\n",
              "20. (8,12]\n",
              "21. (8,12]\n",
              "22. (8,12]\n",
              "23. (8,12]\n",
              "24. (12,16]\n",
              "25. (12,16]\n",
              "26. (12,16]\n",
              "27. (12,16]\n",
              "28. (12,16]\n",
              "29. (12,16]\n",
              "30. (12,16]\n",
              "31. (16,20]\n",
              "32. (16,20]\n",
              "33. (16,20]\n",
              "34. (16,20]\n",
              "35. (16,20]\n",
              "36. (20,24]\n",
              "\n",
              "\n",
              "\n",
              "**Levels**: 1. '(4,8]'\n",
              "2. '(8,12]'\n",
              "3. '(12,16]'\n",
              "4. '(16,20]'\n",
              "5. '(20,24]'\n",
              "\n",
              "\n"
            ],
            "text/plain": [
              " [1] <NA>    (4,8]   (4,8]   (4,8]   (4,8]   (4,8]   (4,8]   (4,8]   (4,8]  \n",
              "[10] (4,8]   (8,12]  (8,12]  (8,12]  (8,12]  (8,12]  (8,12]  (8,12]  (8,12] \n",
              "[19] (8,12]  (8,12]  (8,12]  (8,12]  (8,12]  (12,16] (12,16] (12,16] (12,16]\n",
              "[28] (12,16] (12,16] (12,16] (16,20] (16,20] (16,20] (16,20] (16,20] (20,24]\n",
              "Levels: (4,8] (8,12] (12,16] (16,20] (20,24]"
            ]
          },
          "metadata": {},
          "output_type": "display_data"
        }
      ],
      "source": [
        "cut(empresa$Salario, breaks = seq(4, 24, by = 4), right = TRUE)"
      ]
    },
    {
      "cell_type": "code",
      "execution_count": null,
      "metadata": {
        "colab": {
          "base_uri": "https://localhost:8080/",
          "height": 69
        },
        "id": "S2ADHW-ea6yI",
        "outputId": "8ff0b7bd-1f29-4f57-aa12-57cea29b9030",
        "vscode": {
          "languageId": "r"
        }
      },
      "outputs": [
        {
          "data": {
            "text/html": [
              "<style>\n",
              ".list-inline {list-style: none; margin:0; padding: 0}\n",
              ".list-inline>li {display: inline-block}\n",
              ".list-inline>li:not(:last-child)::after {content: \"\\00b7\"; padding: 0 .5ex}\n",
              "</style>\n",
              "<ol class=list-inline><li>[4,8)</li><li>[4,8)</li><li>[4,8)</li><li>[4,8)</li><li>[4,8)</li><li>[4,8)</li><li>[4,8)</li><li>[4,8)</li><li>[4,8)</li><li>[4,8)</li><li>[8,12)</li><li>[8,12)</li><li>[8,12)</li><li>[8,12)</li><li>[8,12)</li><li>[8,12)</li><li>[8,12)</li><li>[8,12)</li><li>[8,12)</li><li>[8,12)</li><li>[8,12)</li><li>[8,12)</li><li>[12,16)</li><li>[12,16)</li><li>[12,16)</li><li>[12,16)</li><li>[12,16)</li><li>[12,16)</li><li>[12,16)</li><li>[12,16)</li><li>[16,20)</li><li>[16,20)</li><li>[16,20)</li><li>[16,20)</li><li>[16,20)</li><li>[20,24)</li></ol>\n",
              "\n",
              "<details>\n",
              "\t<summary style=display:list-item;cursor:pointer>\n",
              "\t\t<strong>Levels</strong>:\n",
              "\t</summary>\n",
              "\t<style>\n",
              "\t.list-inline {list-style: none; margin:0; padding: 0}\n",
              "\t.list-inline>li {display: inline-block}\n",
              "\t.list-inline>li:not(:last-child)::after {content: \"\\00b7\"; padding: 0 .5ex}\n",
              "\t</style>\n",
              "\t<ol class=list-inline><li>'[4,8)'</li><li>'[8,12)'</li><li>'[12,16)'</li><li>'[16,20)'</li><li>'[20,24)'</li></ol>\n",
              "</details>"
            ],
            "text/latex": [
              "\\begin{enumerate*}\n",
              "\\item {[}4,8)\n",
              "\\item {[}4,8)\n",
              "\\item {[}4,8)\n",
              "\\item {[}4,8)\n",
              "\\item {[}4,8)\n",
              "\\item {[}4,8)\n",
              "\\item {[}4,8)\n",
              "\\item {[}4,8)\n",
              "\\item {[}4,8)\n",
              "\\item {[}4,8)\n",
              "\\item {[}8,12)\n",
              "\\item {[}8,12)\n",
              "\\item {[}8,12)\n",
              "\\item {[}8,12)\n",
              "\\item {[}8,12)\n",
              "\\item {[}8,12)\n",
              "\\item {[}8,12)\n",
              "\\item {[}8,12)\n",
              "\\item {[}8,12)\n",
              "\\item {[}8,12)\n",
              "\\item {[}8,12)\n",
              "\\item {[}8,12)\n",
              "\\item {[}12,16)\n",
              "\\item {[}12,16)\n",
              "\\item {[}12,16)\n",
              "\\item {[}12,16)\n",
              "\\item {[}12,16)\n",
              "\\item {[}12,16)\n",
              "\\item {[}12,16)\n",
              "\\item {[}12,16)\n",
              "\\item {[}16,20)\n",
              "\\item {[}16,20)\n",
              "\\item {[}16,20)\n",
              "\\item {[}16,20)\n",
              "\\item {[}16,20)\n",
              "\\item {[}20,24)\n",
              "\\end{enumerate*}\n",
              "\n",
              "\\emph{Levels}: \\begin{enumerate*}\n",
              "\\item '{[}4,8)'\n",
              "\\item '{[}8,12)'\n",
              "\\item '{[}12,16)'\n",
              "\\item '{[}16,20)'\n",
              "\\item '{[}20,24)'\n",
              "\\end{enumerate*}\n"
            ],
            "text/markdown": [
              "1. [4,8)\n",
              "2. [4,8)\n",
              "3. [4,8)\n",
              "4. [4,8)\n",
              "5. [4,8)\n",
              "6. [4,8)\n",
              "7. [4,8)\n",
              "8. [4,8)\n",
              "9. [4,8)\n",
              "10. [4,8)\n",
              "11. [8,12)\n",
              "12. [8,12)\n",
              "13. [8,12)\n",
              "14. [8,12)\n",
              "15. [8,12)\n",
              "16. [8,12)\n",
              "17. [8,12)\n",
              "18. [8,12)\n",
              "19. [8,12)\n",
              "20. [8,12)\n",
              "21. [8,12)\n",
              "22. [8,12)\n",
              "23. [12,16)\n",
              "24. [12,16)\n",
              "25. [12,16)\n",
              "26. [12,16)\n",
              "27. [12,16)\n",
              "28. [12,16)\n",
              "29. [12,16)\n",
              "30. [12,16)\n",
              "31. [16,20)\n",
              "32. [16,20)\n",
              "33. [16,20)\n",
              "34. [16,20)\n",
              "35. [16,20)\n",
              "36. [20,24)\n",
              "\n",
              "\n",
              "\n",
              "**Levels**: 1. '[4,8)'\n",
              "2. '[8,12)'\n",
              "3. '[12,16)'\n",
              "4. '[16,20)'\n",
              "5. '[20,24)'\n",
              "\n",
              "\n"
            ],
            "text/plain": [
              " [1] [4,8)   [4,8)   [4,8)   [4,8)   [4,8)   [4,8)   [4,8)   [4,8)   [4,8)  \n",
              "[10] [4,8)   [8,12)  [8,12)  [8,12)  [8,12)  [8,12)  [8,12)  [8,12)  [8,12) \n",
              "[19] [8,12)  [8,12)  [8,12)  [8,12)  [12,16) [12,16) [12,16) [12,16) [12,16)\n",
              "[28] [12,16) [12,16) [12,16) [16,20) [16,20) [16,20) [16,20) [16,20) [20,24)\n",
              "Levels: [4,8) [8,12) [12,16) [16,20) [20,24)"
            ]
          },
          "metadata": {},
          "output_type": "display_data"
        }
      ],
      "source": [
        "cut(empresa$Salario, breaks = seq(4, 24, by = 4), right = FALSE)"
      ]
    },
    {
      "cell_type": "markdown",
      "metadata": {
        "id": "sijMhgPMa8-Q"
      },
      "source": [
        "Voltando ao problema"
      ]
    },
    {
      "cell_type": "code",
      "execution_count": null,
      "metadata": {
        "id": "UAigoho4a9zA",
        "vscode": {
          "languageId": "r"
        }
      },
      "outputs": [],
      "source": [
        "tabela_salarios <- table(cut(empresa$Salario, breaks = seq(4, 24, by = 4), right = FALSE))"
      ]
    },
    {
      "cell_type": "code",
      "execution_count": null,
      "metadata": {
        "colab": {
          "base_uri": "https://localhost:8080/",
          "height": 69
        },
        "id": "owEqaob8bET3",
        "outputId": "54af91f8-f7ce-48df-a0b5-102082e33d5c",
        "vscode": {
          "languageId": "r"
        }
      },
      "outputs": [
        {
          "data": {
            "text/plain": [
              "\n",
              "  [4,8)  [8,12) [12,16) [16,20) [20,24) \n",
              "     10      12       8       5       1 "
            ]
          },
          "metadata": {},
          "output_type": "display_data"
        }
      ],
      "source": [
        "tabela_salarios"
      ]
    },
    {
      "cell_type": "code",
      "execution_count": null,
      "metadata": {
        "colab": {
          "base_uri": "https://localhost:8080/",
          "height": 69
        },
        "id": "_wZ3nU5xbLiA",
        "outputId": "a13d74ee-fc72-4e27-ba80-a50bbe262a67",
        "vscode": {
          "languageId": "r"
        }
      },
      "outputs": [
        {
          "data": {
            "text/plain": [
              "\n",
              "     [4,8)     [8,12)    [12,16)    [16,20)    [20,24) \n",
              "0.27777778 0.33333333 0.22222222 0.13888889 0.02777778 "
            ]
          },
          "metadata": {},
          "output_type": "display_data"
        }
      ],
      "source": [
        "prop.table(tabela_salarios)"
      ]
    },
    {
      "cell_type": "code",
      "execution_count": null,
      "metadata": {
        "colab": {
          "base_uri": "https://localhost:8080/",
          "height": 69
        },
        "id": "y7EuN0I8bPOA",
        "outputId": "3bd43072-801a-4b7b-93d1-ca73b67fc00b",
        "vscode": {
          "languageId": "r"
        }
      },
      "outputs": [
        {
          "data": {
            "text/plain": [
              "\n",
              "    [4,8)    [8,12)   [12,16)   [16,20)   [20,24) \n",
              "27.777778 33.333333 22.222222 13.888889  2.777778 "
            ]
          },
          "metadata": {},
          "output_type": "display_data"
        }
      ],
      "source": [
        "100*prop.table(tabela_salarios)"
      ]
    }
  ],
  "metadata": {
    "colab": {
      "provenance": []
    },
    "kernelspec": {
      "display_name": "R",
      "name": "ir"
    },
    "language_info": {
      "name": "R"
    }
  },
  "nbformat": 4,
  "nbformat_minor": 0
}
