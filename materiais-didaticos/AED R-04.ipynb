{
  "cells": [
    {
      "cell_type": "markdown",
      "metadata": {
        "id": "bmusMfjmAPAD"
      },
      "source": [
        "# Análise Exploratória de Dados\n",
        "## Hugo Tremonte de Carvalho\n",
        "## `hugo@dme.ufrj.br`"
      ]
    },
    {
      "cell_type": "code",
      "execution_count": null,
      "metadata": {
        "id": "9jtXfY2b_-wP",
        "vscode": {
          "languageId": "r"
        }
      },
      "outputs": [],
      "source": [
        "empresa <- read.table(\"empresa.csv\", dec = \",\", sep = \";\", h = T)"
      ]
    },
    {
      "cell_type": "markdown",
      "metadata": {
        "id": "1GotXRM5B4Cb"
      },
      "source": [
        "## Calculando medidas resumo em cenários artificiais"
      ]
    },
    {
      "cell_type": "code",
      "execution_count": null,
      "metadata": {
        "id": "NhLydno8AVG0",
        "vscode": {
          "languageId": "r"
        }
      },
      "outputs": [],
      "source": [
        "x = c(3, 4, 5, 6, 7)\n",
        "y = c(1, 3, 5, 7, 9)\n",
        "z = c(5, 5, 5, 5, 5)\n",
        "w = c(3, 5, 5, 7)\n",
        "v = c(3, 5, 5, 6, 6)"
      ]
    },
    {
      "cell_type": "markdown",
      "metadata": {
        "id": "SrE0Ac8eDaYn"
      },
      "source": [
        "### Estatísticas de ordem"
      ]
    },
    {
      "cell_type": "code",
      "execution_count": null,
      "metadata": {
        "colab": {
          "base_uri": "https://localhost:8080/",
          "height": 104
        },
        "id": "VfahuDZhDcVX",
        "outputId": "1acc0c7f-56eb-4b25-cad2-df72cc8ba6b1",
        "vscode": {
          "languageId": "r"
        }
      },
      "outputs": [
        {
          "data": {
            "text/html": [
              "<style>\n",
              ".list-inline {list-style: none; margin:0; padding: 0}\n",
              ".list-inline>li {display: inline-block}\n",
              ".list-inline>li:not(:last-child)::after {content: \"\\00b7\"; padding: 0 .5ex}\n",
              "</style>\n",
              "<ol class=list-inline><li>3</li><li>4</li><li>5</li><li>6</li><li>7</li></ol>\n"
            ],
            "text/latex": [
              "\\begin{enumerate*}\n",
              "\\item 3\n",
              "\\item 4\n",
              "\\item 5\n",
              "\\item 6\n",
              "\\item 7\n",
              "\\end{enumerate*}\n"
            ],
            "text/markdown": [
              "1. 3\n",
              "2. 4\n",
              "3. 5\n",
              "4. 6\n",
              "5. 7\n",
              "\n",
              "\n"
            ],
            "text/plain": [
              "[1] 3 4 5 6 7"
            ]
          },
          "metadata": {},
          "output_type": "display_data"
        },
        {
          "data": {
            "text/html": [
              "<style>\n",
              ".list-inline {list-style: none; margin:0; padding: 0}\n",
              ".list-inline>li {display: inline-block}\n",
              ".list-inline>li:not(:last-child)::after {content: \"\\00b7\"; padding: 0 .5ex}\n",
              "</style>\n",
              "<ol class=list-inline><li>1</li><li>3</li><li>5</li><li>7</li><li>9</li></ol>\n"
            ],
            "text/latex": [
              "\\begin{enumerate*}\n",
              "\\item 1\n",
              "\\item 3\n",
              "\\item 5\n",
              "\\item 7\n",
              "\\item 9\n",
              "\\end{enumerate*}\n"
            ],
            "text/markdown": [
              "1. 1\n",
              "2. 3\n",
              "3. 5\n",
              "4. 7\n",
              "5. 9\n",
              "\n",
              "\n"
            ],
            "text/plain": [
              "[1] 1 3 5 7 9"
            ]
          },
          "metadata": {},
          "output_type": "display_data"
        },
        {
          "data": {
            "text/html": [
              "<style>\n",
              ".list-inline {list-style: none; margin:0; padding: 0}\n",
              ".list-inline>li {display: inline-block}\n",
              ".list-inline>li:not(:last-child)::after {content: \"\\00b7\"; padding: 0 .5ex}\n",
              "</style>\n",
              "<ol class=list-inline><li>5</li><li>5</li><li>5</li><li>5</li><li>5</li></ol>\n"
            ],
            "text/latex": [
              "\\begin{enumerate*}\n",
              "\\item 5\n",
              "\\item 5\n",
              "\\item 5\n",
              "\\item 5\n",
              "\\item 5\n",
              "\\end{enumerate*}\n"
            ],
            "text/markdown": [
              "1. 5\n",
              "2. 5\n",
              "3. 5\n",
              "4. 5\n",
              "5. 5\n",
              "\n",
              "\n"
            ],
            "text/plain": [
              "[1] 5 5 5 5 5"
            ]
          },
          "metadata": {},
          "output_type": "display_data"
        },
        {
          "data": {
            "text/html": [
              "<style>\n",
              ".list-inline {list-style: none; margin:0; padding: 0}\n",
              ".list-inline>li {display: inline-block}\n",
              ".list-inline>li:not(:last-child)::after {content: \"\\00b7\"; padding: 0 .5ex}\n",
              "</style>\n",
              "<ol class=list-inline><li>3</li><li>5</li><li>5</li><li>7</li></ol>\n"
            ],
            "text/latex": [
              "\\begin{enumerate*}\n",
              "\\item 3\n",
              "\\item 5\n",
              "\\item 5\n",
              "\\item 7\n",
              "\\end{enumerate*}\n"
            ],
            "text/markdown": [
              "1. 3\n",
              "2. 5\n",
              "3. 5\n",
              "4. 7\n",
              "\n",
              "\n"
            ],
            "text/plain": [
              "[1] 3 5 5 7"
            ]
          },
          "metadata": {},
          "output_type": "display_data"
        },
        {
          "data": {
            "text/html": [
              "<style>\n",
              ".list-inline {list-style: none; margin:0; padding: 0}\n",
              ".list-inline>li {display: inline-block}\n",
              ".list-inline>li:not(:last-child)::after {content: \"\\00b7\"; padding: 0 .5ex}\n",
              "</style>\n",
              "<ol class=list-inline><li>3</li><li>5</li><li>5</li><li>6</li><li>6</li></ol>\n"
            ],
            "text/latex": [
              "\\begin{enumerate*}\n",
              "\\item 3\n",
              "\\item 5\n",
              "\\item 5\n",
              "\\item 6\n",
              "\\item 6\n",
              "\\end{enumerate*}\n"
            ],
            "text/markdown": [
              "1. 3\n",
              "2. 5\n",
              "3. 5\n",
              "4. 6\n",
              "5. 6\n",
              "\n",
              "\n"
            ],
            "text/plain": [
              "[1] 3 5 5 6 6"
            ]
          },
          "metadata": {},
          "output_type": "display_data"
        }
      ],
      "source": [
        "sort(x)\n",
        "sort(y)\n",
        "sort(z)\n",
        "sort(w)\n",
        "sort(v)"
      ]
    },
    {
      "cell_type": "code",
      "execution_count": null,
      "metadata": {
        "colab": {
          "base_uri": "https://localhost:8080/",
          "height": 34
        },
        "id": "8zEgz-VKM86C",
        "outputId": "5eaddb05-2230-4949-ff61-94a800274cba",
        "vscode": {
          "languageId": "r"
        }
      },
      "outputs": [
        {
          "data": {
            "text/html": [
              "3"
            ],
            "text/latex": [
              "3"
            ],
            "text/markdown": [
              "3"
            ],
            "text/plain": [
              "[1] 3"
            ]
          },
          "metadata": {},
          "output_type": "display_data"
        }
      ],
      "source": [
        "sort(y)[2]"
      ]
    },
    {
      "cell_type": "markdown",
      "metadata": {
        "id": "nEVLM7r1M_tU"
      },
      "source": [
        "### Medidas de centralidade"
      ]
    },
    {
      "cell_type": "markdown",
      "metadata": {
        "id": "rZ1kTZkjCmmm"
      },
      "source": [
        "Média\n",
        "\n",
        "$$\\overline{x} = \\frac{1}{n}\\sum_{i = 1}^n x_i$$"
      ]
    },
    {
      "cell_type": "code",
      "execution_count": null,
      "metadata": {
        "colab": {
          "base_uri": "https://localhost:8080/",
          "height": 104
        },
        "id": "ZCk5nHyxAk5P",
        "outputId": "eef9d4be-8e03-487a-9cb6-212b170c5d6b",
        "vscode": {
          "languageId": "r"
        }
      },
      "outputs": [
        {
          "data": {
            "text/html": [
              "5"
            ],
            "text/latex": [
              "5"
            ],
            "text/markdown": [
              "5"
            ],
            "text/plain": [
              "[1] 5"
            ]
          },
          "metadata": {},
          "output_type": "display_data"
        },
        {
          "data": {
            "text/html": [
              "5"
            ],
            "text/latex": [
              "5"
            ],
            "text/markdown": [
              "5"
            ],
            "text/plain": [
              "[1] 5"
            ]
          },
          "metadata": {},
          "output_type": "display_data"
        },
        {
          "data": {
            "text/html": [
              "5"
            ],
            "text/latex": [
              "5"
            ],
            "text/markdown": [
              "5"
            ],
            "text/plain": [
              "[1] 5"
            ]
          },
          "metadata": {},
          "output_type": "display_data"
        },
        {
          "data": {
            "text/html": [
              "5"
            ],
            "text/latex": [
              "5"
            ],
            "text/markdown": [
              "5"
            ],
            "text/plain": [
              "[1] 5"
            ]
          },
          "metadata": {},
          "output_type": "display_data"
        },
        {
          "data": {
            "text/html": [
              "5"
            ],
            "text/latex": [
              "5"
            ],
            "text/markdown": [
              "5"
            ],
            "text/plain": [
              "[1] 5"
            ]
          },
          "metadata": {},
          "output_type": "display_data"
        }
      ],
      "source": [
        "mean(x)\n",
        "mean(y)\n",
        "mean(z)\n",
        "mean(w)\n",
        "mean(v)"
      ]
    },
    {
      "cell_type": "markdown",
      "metadata": {
        "id": "kioQC11kCnW6"
      },
      "source": [
        "Mediana\n",
        "\n",
        "$$md(x) = \\begin{cases} x_{\\left(\\frac{n + 1}{2}\\right)}, &\\text{ se $n$ é ímpar} \\\\ \\frac{ x_{\\left(\\frac{n}{2}\\right)} + x_{\\left(\\frac{n}{2} + 1\\right)} }{2}, &\\text{ se $n$ é par}\n",
        "\\end{cases}$$"
      ]
    },
    {
      "cell_type": "code",
      "execution_count": null,
      "metadata": {
        "colab": {
          "base_uri": "https://localhost:8080/",
          "height": 104
        },
        "id": "rI8OzwI_Clg6",
        "outputId": "4ab11e9e-acfd-4f68-d39f-c58db9cf90ec",
        "vscode": {
          "languageId": "r"
        }
      },
      "outputs": [
        {
          "data": {
            "text/html": [
              "5"
            ],
            "text/latex": [
              "5"
            ],
            "text/markdown": [
              "5"
            ],
            "text/plain": [
              "[1] 5"
            ]
          },
          "metadata": {},
          "output_type": "display_data"
        },
        {
          "data": {
            "text/html": [
              "5"
            ],
            "text/latex": [
              "5"
            ],
            "text/markdown": [
              "5"
            ],
            "text/plain": [
              "[1] 5"
            ]
          },
          "metadata": {},
          "output_type": "display_data"
        },
        {
          "data": {
            "text/html": [
              "5"
            ],
            "text/latex": [
              "5"
            ],
            "text/markdown": [
              "5"
            ],
            "text/plain": [
              "[1] 5"
            ]
          },
          "metadata": {},
          "output_type": "display_data"
        },
        {
          "data": {
            "text/html": [
              "5"
            ],
            "text/latex": [
              "5"
            ],
            "text/markdown": [
              "5"
            ],
            "text/plain": [
              "[1] 5"
            ]
          },
          "metadata": {},
          "output_type": "display_data"
        },
        {
          "data": {
            "text/html": [
              "5"
            ],
            "text/latex": [
              "5"
            ],
            "text/markdown": [
              "5"
            ],
            "text/plain": [
              "[1] 5"
            ]
          },
          "metadata": {},
          "output_type": "display_data"
        }
      ],
      "source": [
        "median(x)\n",
        "median(y)\n",
        "median(z)\n",
        "median(w)\n",
        "median(v)"
      ]
    },
    {
      "cell_type": "markdown",
      "metadata": {
        "id": "DkjgbhaVCpAH"
      },
      "source": [
        "R não tem função embutida para calcular a moda!!!! Porque será? 🤔"
      ]
    },
    {
      "cell_type": "markdown",
      "metadata": {
        "id": "JcGXdFI3ChZ4"
      },
      "source": [
        "### Medidas de dispersão"
      ]
    },
    {
      "cell_type": "markdown",
      "metadata": {
        "id": "bi853kWZDR6n"
      },
      "source": [
        "Desvio absoluto médio\n",
        "\n",
        "$$dm(x) = \\frac{1}{n}\\sum_{i = 1}^n |x_i - \\overline{x}|$$"
      ]
    },
    {
      "cell_type": "code",
      "execution_count": null,
      "metadata": {
        "colab": {
          "base_uri": "https://localhost:8080/",
          "height": 104
        },
        "id": "JQU9bG6aAyj0",
        "outputId": "cdd37049-26ea-45ea-ba89-b193b1fd3144",
        "vscode": {
          "languageId": "r"
        }
      },
      "outputs": [
        {
          "data": {
            "text/html": [
              "1.2"
            ],
            "text/latex": [
              "1.2"
            ],
            "text/markdown": [
              "1.2"
            ],
            "text/plain": [
              "[1] 1.2"
            ]
          },
          "metadata": {},
          "output_type": "display_data"
        },
        {
          "data": {
            "text/html": [
              "2.4"
            ],
            "text/latex": [
              "2.4"
            ],
            "text/markdown": [
              "2.4"
            ],
            "text/plain": [
              "[1] 2.4"
            ]
          },
          "metadata": {},
          "output_type": "display_data"
        },
        {
          "data": {
            "text/html": [
              "0"
            ],
            "text/latex": [
              "0"
            ],
            "text/markdown": [
              "0"
            ],
            "text/plain": [
              "[1] 0"
            ]
          },
          "metadata": {},
          "output_type": "display_data"
        },
        {
          "data": {
            "text/html": [
              "1"
            ],
            "text/latex": [
              "1"
            ],
            "text/markdown": [
              "1"
            ],
            "text/plain": [
              "[1] 1"
            ]
          },
          "metadata": {},
          "output_type": "display_data"
        },
        {
          "data": {
            "text/html": [
              "0.8"
            ],
            "text/latex": [
              "0.8"
            ],
            "text/markdown": [
              "0.8"
            ],
            "text/plain": [
              "[1] 0.8"
            ]
          },
          "metadata": {},
          "output_type": "display_data"
        }
      ],
      "source": [
        "mean(abs(x - mean(x)))\n",
        "mean(abs(y - mean(y)))\n",
        "mean(abs(z - mean(z)))\n",
        "mean(abs(w - mean(w)))\n",
        "mean(abs(v - mean(v)))"
      ]
    },
    {
      "cell_type": "markdown",
      "metadata": {
        "id": "97fmRX8VKrOa"
      },
      "source": [
        "Desvio quadrático médio (variância)\n",
        "\n",
        "$$var(x) = \\frac{1}{n}\\sum_{i = 1}^n (x_i - \\overline{x})^2 ~~ \\text{ OU } ~~ \\frac{1}{n-1}\\sum_{i = 1}^n (x_i - \\overline{x})^2$$"
      ]
    },
    {
      "cell_type": "markdown",
      "metadata": {
        "id": "4k8a-ZMhNpAY"
      },
      "source": [
        "Dividindo por $n$"
      ]
    },
    {
      "cell_type": "code",
      "execution_count": null,
      "metadata": {
        "colab": {
          "base_uri": "https://localhost:8080/",
          "height": 104
        },
        "id": "EyUXhBePBLsH",
        "outputId": "10fc8231-0a4d-4e19-a050-e7625e5edd57",
        "vscode": {
          "languageId": "r"
        }
      },
      "outputs": [
        {
          "data": {
            "text/html": [
              "2"
            ],
            "text/latex": [
              "2"
            ],
            "text/markdown": [
              "2"
            ],
            "text/plain": [
              "[1] 2"
            ]
          },
          "metadata": {},
          "output_type": "display_data"
        },
        {
          "data": {
            "text/html": [
              "8"
            ],
            "text/latex": [
              "8"
            ],
            "text/markdown": [
              "8"
            ],
            "text/plain": [
              "[1] 8"
            ]
          },
          "metadata": {},
          "output_type": "display_data"
        },
        {
          "data": {
            "text/html": [
              "0"
            ],
            "text/latex": [
              "0"
            ],
            "text/markdown": [
              "0"
            ],
            "text/plain": [
              "[1] 0"
            ]
          },
          "metadata": {},
          "output_type": "display_data"
        },
        {
          "data": {
            "text/html": [
              "2"
            ],
            "text/latex": [
              "2"
            ],
            "text/markdown": [
              "2"
            ],
            "text/plain": [
              "[1] 2"
            ]
          },
          "metadata": {},
          "output_type": "display_data"
        },
        {
          "data": {
            "text/html": [
              "1.2"
            ],
            "text/latex": [
              "1.2"
            ],
            "text/markdown": [
              "1.2"
            ],
            "text/plain": [
              "[1] 1.2"
            ]
          },
          "metadata": {},
          "output_type": "display_data"
        }
      ],
      "source": [
        "mean((x - mean(x))**2)\n",
        "mean((y - mean(y))**2)\n",
        "mean((z - mean(z))**2)\n",
        "mean((w - mean(w))**2)\n",
        "mean((v - mean(v))**2)"
      ]
    },
    {
      "cell_type": "markdown",
      "metadata": {
        "id": "ahHfcCGTNrRQ"
      },
      "source": [
        "Dividindo por $n - 1$"
      ]
    },
    {
      "cell_type": "code",
      "execution_count": null,
      "metadata": {
        "colab": {
          "base_uri": "https://localhost:8080/",
          "height": 104
        },
        "id": "AJGwo2wUNhGk",
        "outputId": "5c6008b1-43a9-47b4-f37f-7b1ff966ac5d",
        "vscode": {
          "languageId": "r"
        }
      },
      "outputs": [
        {
          "data": {
            "text/html": [
              "2.5"
            ],
            "text/latex": [
              "2.5"
            ],
            "text/markdown": [
              "2.5"
            ],
            "text/plain": [
              "[1] 2.5"
            ]
          },
          "metadata": {},
          "output_type": "display_data"
        },
        {
          "data": {
            "text/html": [
              "10"
            ],
            "text/latex": [
              "10"
            ],
            "text/markdown": [
              "10"
            ],
            "text/plain": [
              "[1] 10"
            ]
          },
          "metadata": {},
          "output_type": "display_data"
        },
        {
          "data": {
            "text/html": [
              "0"
            ],
            "text/latex": [
              "0"
            ],
            "text/markdown": [
              "0"
            ],
            "text/plain": [
              "[1] 0"
            ]
          },
          "metadata": {},
          "output_type": "display_data"
        },
        {
          "data": {
            "text/html": [
              "2.66666666666667"
            ],
            "text/latex": [
              "2.66666666666667"
            ],
            "text/markdown": [
              "2.66666666666667"
            ],
            "text/plain": [
              "[1] 2.666667"
            ]
          },
          "metadata": {},
          "output_type": "display_data"
        },
        {
          "data": {
            "text/html": [
              "1.5"
            ],
            "text/latex": [
              "1.5"
            ],
            "text/markdown": [
              "1.5"
            ],
            "text/plain": [
              "[1] 1.5"
            ]
          },
          "metadata": {},
          "output_type": "display_data"
        }
      ],
      "source": [
        "var(x)\n",
        "var(y)\n",
        "var(z)\n",
        "var(w)\n",
        "var(v)"
      ]
    },
    {
      "cell_type": "code",
      "execution_count": null,
      "metadata": {
        "colab": {
          "base_uri": "https://localhost:8080/",
          "height": 104
        },
        "id": "Y537H8gHNtUq",
        "outputId": "f3d0a84f-4653-435e-fa77-db554c5b22a2",
        "vscode": {
          "languageId": "r"
        }
      },
      "outputs": [
        {
          "data": {
            "text/html": [
              "2.5"
            ],
            "text/latex": [
              "2.5"
            ],
            "text/markdown": [
              "2.5"
            ],
            "text/plain": [
              "[1] 2.5"
            ]
          },
          "metadata": {},
          "output_type": "display_data"
        },
        {
          "data": {
            "text/html": [
              "10"
            ],
            "text/latex": [
              "10"
            ],
            "text/markdown": [
              "10"
            ],
            "text/plain": [
              "[1] 10"
            ]
          },
          "metadata": {},
          "output_type": "display_data"
        },
        {
          "data": {
            "text/html": [
              "0"
            ],
            "text/latex": [
              "0"
            ],
            "text/markdown": [
              "0"
            ],
            "text/plain": [
              "[1] 0"
            ]
          },
          "metadata": {},
          "output_type": "display_data"
        },
        {
          "data": {
            "text/html": [
              "2.66666666666667"
            ],
            "text/latex": [
              "2.66666666666667"
            ],
            "text/markdown": [
              "2.66666666666667"
            ],
            "text/plain": [
              "[1] 2.666667"
            ]
          },
          "metadata": {},
          "output_type": "display_data"
        },
        {
          "data": {
            "text/html": [
              "1.5"
            ],
            "text/latex": [
              "1.5"
            ],
            "text/markdown": [
              "1.5"
            ],
            "text/plain": [
              "[1] 1.5"
            ]
          },
          "metadata": {},
          "output_type": "display_data"
        }
      ],
      "source": [
        "sum((x - mean(x))**2)/(length(x) - 1)\n",
        "sum((y - mean(y))**2)/(length(y) - 1)\n",
        "sum((z - mean(z))**2)/(length(z) - 1)\n",
        "sum((w - mean(w))**2)/(length(w) - 1)\n",
        "sum((v - mean(v))**2)/(length(v) - 1)"
      ]
    },
    {
      "cell_type": "markdown",
      "metadata": {
        "id": "VQZ67nI-KtV1"
      },
      "source": [
        "Desvio padrão\n",
        "\n",
        "$$dp(x) = \\sqrt{var(x)} = \\sqrt{\\frac{1}{n}\\sum_{i = 1}^n (x_i - \\overline{x})^2} ~~ \\text{ OU } ~~ \\sqrt{\\frac{1}{n-1}\\sum_{i = 1}^n (x_i - \\overline{x})^2}$$"
      ]
    },
    {
      "cell_type": "markdown",
      "metadata": {
        "id": "KuR1x0TsN90r"
      },
      "source": [
        "Dividindo por $n$"
      ]
    },
    {
      "cell_type": "code",
      "execution_count": null,
      "metadata": {
        "colab": {
          "base_uri": "https://localhost:8080/",
          "height": 104
        },
        "id": "jJl6tdUEBWtI",
        "outputId": "d7d56c11-1e73-42e6-bc9c-48169b2607c9",
        "vscode": {
          "languageId": "r"
        }
      },
      "outputs": [
        {
          "data": {
            "text/html": [
              "1.4142135623731"
            ],
            "text/latex": [
              "1.4142135623731"
            ],
            "text/markdown": [
              "1.4142135623731"
            ],
            "text/plain": [
              "[1] 1.414214"
            ]
          },
          "metadata": {},
          "output_type": "display_data"
        },
        {
          "data": {
            "text/html": [
              "2.82842712474619"
            ],
            "text/latex": [
              "2.82842712474619"
            ],
            "text/markdown": [
              "2.82842712474619"
            ],
            "text/plain": [
              "[1] 2.828427"
            ]
          },
          "metadata": {},
          "output_type": "display_data"
        },
        {
          "data": {
            "text/html": [
              "0"
            ],
            "text/latex": [
              "0"
            ],
            "text/markdown": [
              "0"
            ],
            "text/plain": [
              "[1] 0"
            ]
          },
          "metadata": {},
          "output_type": "display_data"
        },
        {
          "data": {
            "text/html": [
              "1.4142135623731"
            ],
            "text/latex": [
              "1.4142135623731"
            ],
            "text/markdown": [
              "1.4142135623731"
            ],
            "text/plain": [
              "[1] 1.414214"
            ]
          },
          "metadata": {},
          "output_type": "display_data"
        },
        {
          "data": {
            "text/html": [
              "1.09544511501033"
            ],
            "text/latex": [
              "1.09544511501033"
            ],
            "text/markdown": [
              "1.09544511501033"
            ],
            "text/plain": [
              "[1] 1.095445"
            ]
          },
          "metadata": {},
          "output_type": "display_data"
        }
      ],
      "source": [
        "sqrt(mean((x - mean(x))**2))\n",
        "sqrt(mean((y - mean(y))**2))\n",
        "sqrt(mean((z - mean(z))**2))\n",
        "sqrt(mean((w - mean(w))**2))\n",
        "sqrt(mean((v - mean(v))**2))"
      ]
    },
    {
      "cell_type": "markdown",
      "metadata": {
        "id": "hAygwhJpLLbU"
      },
      "source": [
        "Dividindo por $n - 1$"
      ]
    },
    {
      "cell_type": "code",
      "execution_count": null,
      "metadata": {
        "colab": {
          "base_uri": "https://localhost:8080/",
          "height": 104
        },
        "id": "U8lr5OKcBbue",
        "outputId": "bb9414bd-bf78-4e17-f290-b2f21973e8d6",
        "vscode": {
          "languageId": "r"
        }
      },
      "outputs": [
        {
          "data": {
            "text/html": [
              "1.58113883008419"
            ],
            "text/latex": [
              "1.58113883008419"
            ],
            "text/markdown": [
              "1.58113883008419"
            ],
            "text/plain": [
              "[1] 1.581139"
            ]
          },
          "metadata": {},
          "output_type": "display_data"
        },
        {
          "data": {
            "text/html": [
              "3.16227766016838"
            ],
            "text/latex": [
              "3.16227766016838"
            ],
            "text/markdown": [
              "3.16227766016838"
            ],
            "text/plain": [
              "[1] 3.162278"
            ]
          },
          "metadata": {},
          "output_type": "display_data"
        },
        {
          "data": {
            "text/html": [
              "0"
            ],
            "text/latex": [
              "0"
            ],
            "text/markdown": [
              "0"
            ],
            "text/plain": [
              "[1] 0"
            ]
          },
          "metadata": {},
          "output_type": "display_data"
        },
        {
          "data": {
            "text/html": [
              "1.63299316185545"
            ],
            "text/latex": [
              "1.63299316185545"
            ],
            "text/markdown": [
              "1.63299316185545"
            ],
            "text/plain": [
              "[1] 1.632993"
            ]
          },
          "metadata": {},
          "output_type": "display_data"
        },
        {
          "data": {
            "text/html": [
              "1.22474487139159"
            ],
            "text/latex": [
              "1.22474487139159"
            ],
            "text/markdown": [
              "1.22474487139159"
            ],
            "text/plain": [
              "[1] 1.224745"
            ]
          },
          "metadata": {},
          "output_type": "display_data"
        }
      ],
      "source": [
        "sd(x)\n",
        "sd(y)\n",
        "sd(z)\n",
        "sd(w)\n",
        "sd(v)"
      ]
    },
    {
      "cell_type": "code",
      "execution_count": null,
      "metadata": {
        "colab": {
          "base_uri": "https://localhost:8080/",
          "height": 104
        },
        "id": "lYD85f6TBoWt",
        "outputId": "5fec620a-9b32-43bc-c3b3-cc0099bf1f5a",
        "vscode": {
          "languageId": "r"
        }
      },
      "outputs": [
        {
          "data": {
            "text/html": [
              "1.58113883008419"
            ],
            "text/latex": [
              "1.58113883008419"
            ],
            "text/markdown": [
              "1.58113883008419"
            ],
            "text/plain": [
              "[1] 1.581139"
            ]
          },
          "metadata": {},
          "output_type": "display_data"
        },
        {
          "data": {
            "text/html": [
              "3.16227766016838"
            ],
            "text/latex": [
              "3.16227766016838"
            ],
            "text/markdown": [
              "3.16227766016838"
            ],
            "text/plain": [
              "[1] 3.162278"
            ]
          },
          "metadata": {},
          "output_type": "display_data"
        },
        {
          "data": {
            "text/html": [
              "0"
            ],
            "text/latex": [
              "0"
            ],
            "text/markdown": [
              "0"
            ],
            "text/plain": [
              "[1] 0"
            ]
          },
          "metadata": {},
          "output_type": "display_data"
        },
        {
          "data": {
            "text/html": [
              "1.4142135623731"
            ],
            "text/latex": [
              "1.4142135623731"
            ],
            "text/markdown": [
              "1.4142135623731"
            ],
            "text/plain": [
              "[1] 1.414214"
            ]
          },
          "metadata": {},
          "output_type": "display_data"
        },
        {
          "data": {
            "text/html": [
              "1.22474487139159"
            ],
            "text/latex": [
              "1.22474487139159"
            ],
            "text/markdown": [
              "1.22474487139159"
            ],
            "text/plain": [
              "[1] 1.224745"
            ]
          },
          "metadata": {},
          "output_type": "display_data"
        }
      ],
      "source": [
        "sqrt(sum((x - mean(x))**2)/(length(x) - 1))\n",
        "sqrt(sum((y - mean(y))**2)/(length(x) - 1))\n",
        "sqrt(sum((z - mean(z))**2)/(length(x) - 1))\n",
        "sqrt(sum((w - mean(w))**2)/(length(x) - 1))\n",
        "sqrt(sum((v - mean(v))**2)/(length(x) - 1))"
      ]
    },
    {
      "cell_type": "markdown",
      "metadata": {
        "id": "ahxsK5SaQI0l"
      },
      "source": [
        "Coeficiente de variação ou desvio padrão relativo\n",
        "\n",
        "$$cv(x) = \\frac{dp(x)}{\\overline{x}}$$"
      ]
    },
    {
      "cell_type": "code",
      "execution_count": null,
      "metadata": {
        "colab": {
          "base_uri": "https://localhost:8080/",
          "height": 104
        },
        "id": "46R7mYvNQa8-",
        "outputId": "6b5ecf6a-9d58-48ce-d5eb-dc7d4032be2e",
        "vscode": {
          "languageId": "r"
        }
      },
      "outputs": [
        {
          "data": {
            "text/html": [
              "0.316227766016838"
            ],
            "text/latex": [
              "0.316227766016838"
            ],
            "text/markdown": [
              "0.316227766016838"
            ],
            "text/plain": [
              "[1] 0.3162278"
            ]
          },
          "metadata": {},
          "output_type": "display_data"
        },
        {
          "data": {
            "text/html": [
              "0.632455532033676"
            ],
            "text/latex": [
              "0.632455532033676"
            ],
            "text/markdown": [
              "0.632455532033676"
            ],
            "text/plain": [
              "[1] 0.6324555"
            ]
          },
          "metadata": {},
          "output_type": "display_data"
        },
        {
          "data": {
            "text/html": [
              "0"
            ],
            "text/latex": [
              "0"
            ],
            "text/markdown": [
              "0"
            ],
            "text/plain": [
              "[1] 0"
            ]
          },
          "metadata": {},
          "output_type": "display_data"
        },
        {
          "data": {
            "text/html": [
              "0.32659863237109"
            ],
            "text/latex": [
              "0.32659863237109"
            ],
            "text/markdown": [
              "0.32659863237109"
            ],
            "text/plain": [
              "[1] 0.3265986"
            ]
          },
          "metadata": {},
          "output_type": "display_data"
        },
        {
          "data": {
            "text/html": [
              "0.244948974278318"
            ],
            "text/latex": [
              "0.244948974278318"
            ],
            "text/markdown": [
              "0.244948974278318"
            ],
            "text/plain": [
              "[1] 0.244949"
            ]
          },
          "metadata": {},
          "output_type": "display_data"
        }
      ],
      "source": [
        "sd(x)/mean(x)\n",
        "sd(y)/mean(y)\n",
        "sd(z)/mean(z)\n",
        "sd(w)/mean(w)\n",
        "sd(v)/mean(v)"
      ]
    },
    {
      "cell_type": "markdown",
      "metadata": {
        "id": "YuN4uH3vOQ4x"
      },
      "source": [
        "## Calculando medidas resumo em um cenário \"real\""
      ]
    },
    {
      "cell_type": "code",
      "execution_count": null,
      "metadata": {
        "colab": {
          "base_uri": "https://localhost:8080/",
          "height": 34
        },
        "id": "IXLf1j7mOSx6",
        "outputId": "60c49d8e-7ff7-45b2-9557-d18548a7d519",
        "vscode": {
          "languageId": "r"
        }
      },
      "outputs": [
        {
          "data": {
            "text/html": [
              "34.5833333333333"
            ],
            "text/latex": [
              "34.5833333333333"
            ],
            "text/markdown": [
              "34.5833333333333"
            ],
            "text/plain": [
              "[1] 34.58333"
            ]
          },
          "metadata": {},
          "output_type": "display_data"
        }
      ],
      "source": [
        "mean(empresa$IdadeAnos)"
      ]
    },
    {
      "cell_type": "code",
      "execution_count": null,
      "metadata": {
        "colab": {
          "base_uri": "https://localhost:8080/",
          "height": 34
        },
        "id": "nKyZIksdOWJP",
        "outputId": "7d7142b8-bad0-4269-bf5d-349f6d155689",
        "vscode": {
          "languageId": "r"
        }
      },
      "outputs": [
        {
          "data": {
            "text/html": [
              "6.73742214373251"
            ],
            "text/latex": [
              "6.73742214373251"
            ],
            "text/markdown": [
              "6.73742214373251"
            ],
            "text/plain": [
              "[1] 6.737422"
            ]
          },
          "metadata": {},
          "output_type": "display_data"
        }
      ],
      "source": [
        "sd(empresa$IdadeAnos)"
      ]
    },
    {
      "cell_type": "code",
      "execution_count": null,
      "metadata": {
        "colab": {
          "base_uri": "https://localhost:8080/",
          "height": 34
        },
        "id": "nbHVRWFcOi63",
        "outputId": "f39e1041-a922-48ad-cec5-c1cb724f7309",
        "vscode": {
          "languageId": "r"
        }
      },
      "outputs": [
        {
          "data": {
            "text/html": [
              "34.5"
            ],
            "text/latex": [
              "34.5"
            ],
            "text/markdown": [
              "34.5"
            ],
            "text/plain": [
              "[1] 34.5"
            ]
          },
          "metadata": {},
          "output_type": "display_data"
        }
      ],
      "source": [
        "median(empresa$IdadeAnos)"
      ]
    },
    {
      "cell_type": "code",
      "execution_count": null,
      "metadata": {
        "colab": {
          "base_uri": "https://localhost:8080/",
          "height": 69
        },
        "id": "ZBDcWtdxO4OD",
        "outputId": "2620b67f-e55e-4580-f903-b90091ddb730",
        "vscode": {
          "languageId": "r"
        }
      },
      "outputs": [
        {
          "data": {
            "text/plain": [
              "\n",
              "20 23 25 26 27 28 29 30 31 32 33 34 35 36 37 38 39 40 41 42 43 44 46 48 \n",
              " 1  1  1  2  1  1  1  2  2  2  2  2  2  2  2  1  1  2  2  1  2  1  1  1 "
            ]
          },
          "metadata": {},
          "output_type": "display_data"
        }
      ],
      "source": [
        "table(empresa$IdadeAnos) # Várias modas"
      ]
    },
    {
      "cell_type": "code",
      "execution_count": null,
      "metadata": {
        "colab": {
          "base_uri": "https://localhost:8080/",
          "height": 34
        },
        "id": "nXZatJo0OfDj",
        "outputId": "aafb535d-fc44-4a87-b332-414aedb88541",
        "vscode": {
          "languageId": "r"
        }
      },
      "outputs": [
        {
          "data": {
            "text/html": [
              "11.1222222222222"
            ],
            "text/latex": [
              "11.1222222222222"
            ],
            "text/markdown": [
              "11.1222222222222"
            ],
            "text/plain": [
              "[1] 11.12222"
            ]
          },
          "metadata": {},
          "output_type": "display_data"
        }
      ],
      "source": [
        "mean(empresa$Salario)"
      ]
    },
    {
      "cell_type": "code",
      "execution_count": null,
      "metadata": {
        "colab": {
          "base_uri": "https://localhost:8080/",
          "height": 34
        },
        "id": "WvlOYeqTO3Cf",
        "outputId": "0a3450fe-9c54-436f-efee-2774242afb73",
        "vscode": {
          "languageId": "r"
        }
      },
      "outputs": [
        {
          "data": {
            "text/html": [
              "10.165"
            ],
            "text/latex": [
              "10.165"
            ],
            "text/markdown": [
              "10.165"
            ],
            "text/plain": [
              "[1] 10.165"
            ]
          },
          "metadata": {},
          "output_type": "display_data"
        }
      ],
      "source": [
        "median(empresa$Salario)"
      ]
    },
    {
      "cell_type": "code",
      "execution_count": null,
      "metadata": {
        "colab": {
          "base_uri": "https://localhost:8080/",
          "height": 34
        },
        "id": "ZQ-P7XHISG8W",
        "outputId": "1eeababe-7b65-49ba-9739-9e97c3bf89ea",
        "vscode": {
          "languageId": "r"
        }
      },
      "outputs": [
        {
          "data": {
            "text/html": [
              "&lt;NA&gt;"
            ],
            "text/latex": [
              "<NA>"
            ],
            "text/markdown": [
              "&lt;NA&gt;"
            ],
            "text/plain": [
              "[1] NA"
            ]
          },
          "metadata": {},
          "output_type": "display_data"
        }
      ],
      "source": [
        "mean(empresa$Filhos)"
      ]
    },
    {
      "cell_type": "code",
      "execution_count": null,
      "metadata": {
        "colab": {
          "base_uri": "https://localhost:8080/",
          "height": 34
        },
        "id": "-g6tEQpLSIM9",
        "outputId": "2d105b27-2cd2-4371-b1fc-aa4ac534fa47",
        "vscode": {
          "languageId": "r"
        }
      },
      "outputs": [
        {
          "data": {
            "text/html": [
              "1.65"
            ],
            "text/latex": [
              "1.65"
            ],
            "text/markdown": [
              "1.65"
            ],
            "text/plain": [
              "[1] 1.65"
            ]
          },
          "metadata": {},
          "output_type": "display_data"
        }
      ],
      "source": [
        "mean(empresa$Filhos, na.rm = TRUE)"
      ]
    },
    {
      "cell_type": "code",
      "execution_count": null,
      "metadata": {
        "colab": {
          "base_uri": "https://localhost:8080/",
          "height": 34
        },
        "id": "HjP6ISiDSRsL",
        "outputId": "c34fd413-cb2e-43a6-b0f3-54ec426cdd27",
        "vscode": {
          "languageId": "r"
        }
      },
      "outputs": [
        {
          "data": {
            "text/html": [
              "&lt;NA&gt;"
            ],
            "text/latex": [
              "<NA>"
            ],
            "text/markdown": [
              "&lt;NA&gt;"
            ],
            "text/plain": [
              "[1] NA"
            ]
          },
          "metadata": {},
          "output_type": "display_data"
        }
      ],
      "source": [
        "median(empresa$Filhos)"
      ]
    },
    {
      "cell_type": "code",
      "execution_count": null,
      "metadata": {
        "colab": {
          "base_uri": "https://localhost:8080/",
          "height": 34
        },
        "id": "RmThKakFSUqf",
        "outputId": "9bbbae49-a44c-4383-f25f-0b102c226a15",
        "vscode": {
          "languageId": "r"
        }
      },
      "outputs": [
        {
          "data": {
            "text/html": [
              "2"
            ],
            "text/latex": [
              "2"
            ],
            "text/markdown": [
              "2"
            ],
            "text/plain": [
              "[1] 2"
            ]
          },
          "metadata": {},
          "output_type": "display_data"
        }
      ],
      "source": [
        "median(empresa$Filhos, na.rm = TRUE)"
      ]
    },
    {
      "cell_type": "code",
      "execution_count": null,
      "metadata": {
        "colab": {
          "base_uri": "https://localhost:8080/",
          "height": 69
        },
        "id": "HudvG8ZaSW7o",
        "outputId": "6f1a7928-aab8-45e3-cf74-d2954092d852",
        "vscode": {
          "languageId": "r"
        }
      },
      "outputs": [
        {
          "data": {
            "text/plain": [
              "\n",
              "0 1 2 3 5 \n",
              "4 5 7 3 1 "
            ]
          },
          "metadata": {},
          "output_type": "display_data"
        }
      ],
      "source": [
        "table(empresa$Filhos)"
      ]
    },
    {
      "cell_type": "markdown",
      "metadata": {
        "id": "WW6xM3ylQ34k"
      },
      "source": [
        "## Algo curioso..."
      ]
    },
    {
      "cell_type": "code",
      "execution_count": null,
      "metadata": {
        "id": "pI4fuUVZO9K0",
        "vscode": {
          "languageId": "r"
        }
      },
      "outputs": [],
      "source": [
        " a = c(1, 2, 3, 4, 5)\n",
        " b = c(1, 2, 3, 4, 200)"
      ]
    },
    {
      "cell_type": "code",
      "execution_count": null,
      "metadata": {
        "colab": {
          "base_uri": "https://localhost:8080/",
          "height": 52
        },
        "id": "4FlJDA6dRFBv",
        "outputId": "97d3f1a2-01b7-4a16-a98b-d714915d0b23",
        "vscode": {
          "languageId": "r"
        }
      },
      "outputs": [
        {
          "data": {
            "text/html": [
              "3"
            ],
            "text/latex": [
              "3"
            ],
            "text/markdown": [
              "3"
            ],
            "text/plain": [
              "[1] 3"
            ]
          },
          "metadata": {},
          "output_type": "display_data"
        },
        {
          "data": {
            "text/html": [
              "42"
            ],
            "text/latex": [
              "42"
            ],
            "text/markdown": [
              "42"
            ],
            "text/plain": [
              "[1] 42"
            ]
          },
          "metadata": {},
          "output_type": "display_data"
        }
      ],
      "source": [
        "mean(a)\n",
        "mean(b)"
      ]
    },
    {
      "cell_type": "code",
      "execution_count": null,
      "metadata": {
        "colab": {
          "base_uri": "https://localhost:8080/",
          "height": 52
        },
        "id": "GH_WynsCRGd1",
        "outputId": "c3c04a18-f519-413d-aac4-5ff86a4d175f",
        "vscode": {
          "languageId": "r"
        }
      },
      "outputs": [
        {
          "data": {
            "text/html": [
              "3"
            ],
            "text/latex": [
              "3"
            ],
            "text/markdown": [
              "3"
            ],
            "text/plain": [
              "[1] 3"
            ]
          },
          "metadata": {},
          "output_type": "display_data"
        },
        {
          "data": {
            "text/html": [
              "3"
            ],
            "text/latex": [
              "3"
            ],
            "text/markdown": [
              "3"
            ],
            "text/plain": [
              "[1] 3"
            ]
          },
          "metadata": {},
          "output_type": "display_data"
        }
      ],
      "source": [
        "median(a)\n",
        "median(b)"
      ]
    },
    {
      "cell_type": "code",
      "execution_count": null,
      "metadata": {
        "colab": {
          "base_uri": "https://localhost:8080/",
          "height": 52
        },
        "id": "rzH9PId0RKIy",
        "outputId": "6f40d360-9eaf-4923-9259-fdac9d698981",
        "vscode": {
          "languageId": "r"
        }
      },
      "outputs": [
        {
          "data": {
            "text/html": [
              "1.58113883008419"
            ],
            "text/latex": [
              "1.58113883008419"
            ],
            "text/markdown": [
              "1.58113883008419"
            ],
            "text/plain": [
              "[1] 1.581139"
            ]
          },
          "metadata": {},
          "output_type": "display_data"
        },
        {
          "data": {
            "text/html": [
              "88.3317609922954"
            ],
            "text/latex": [
              "88.3317609922954"
            ],
            "text/markdown": [
              "88.3317609922954"
            ],
            "text/plain": [
              "[1] 88.33176"
            ]
          },
          "metadata": {},
          "output_type": "display_data"
        }
      ],
      "source": [
        "sd(a)\n",
        "sd(b)"
      ]
    },
    {
      "cell_type": "code",
      "execution_count": null,
      "metadata": {
        "colab": {
          "base_uri": "https://localhost:8080/",
          "height": 52
        },
        "id": "fMKAGvMYRNej",
        "outputId": "c820efe2-7d67-4f1a-fef7-23d1fc0e861e",
        "vscode": {
          "languageId": "r"
        }
      },
      "outputs": [
        {
          "data": {
            "text/html": [
              "1.2"
            ],
            "text/latex": [
              "1.2"
            ],
            "text/markdown": [
              "1.2"
            ],
            "text/plain": [
              "[1] 1.2"
            ]
          },
          "metadata": {},
          "output_type": "display_data"
        },
        {
          "data": {
            "text/html": [
              "63.2"
            ],
            "text/latex": [
              "63.2"
            ],
            "text/markdown": [
              "63.2"
            ],
            "text/plain": [
              "[1] 63.2"
            ]
          },
          "metadata": {},
          "output_type": "display_data"
        }
      ],
      "source": [
        "# desvio absoluto médio\n",
        "\n",
        "mean(abs(a - mean(a)))\n",
        "mean(abs(b - mean(b)))"
      ]
    },
    {
      "cell_type": "code",
      "execution_count": null,
      "metadata": {
        "colab": {
          "base_uri": "https://localhost:8080/",
          "height": 52
        },
        "id": "KqggF1kuRzjS",
        "outputId": "7786a39e-aef0-4389-e035-af7c9c3ca6fa",
        "vscode": {
          "languageId": "r"
        }
      },
      "outputs": [
        {
          "data": {
            "text/html": [
              "0.52704627669473"
            ],
            "text/latex": [
              "0.52704627669473"
            ],
            "text/markdown": [
              "0.52704627669473"
            ],
            "text/plain": [
              "[1] 0.5270463"
            ]
          },
          "metadata": {},
          "output_type": "display_data"
        },
        {
          "data": {
            "text/html": [
              "2.10313716648322"
            ],
            "text/latex": [
              "2.10313716648322"
            ],
            "text/markdown": [
              "2.10313716648322"
            ],
            "text/plain": [
              "[1] 2.103137"
            ]
          },
          "metadata": {},
          "output_type": "display_data"
        }
      ],
      "source": [
        "# coeficiente de variação\n",
        "sd(a)/mean(a)\n",
        "sd(b)/mean(b)"
      ]
    },
    {
      "cell_type": "code",
      "execution_count": null,
      "metadata": {
        "id": "y5z4zcgmR6FU",
        "vscode": {
          "languageId": "r"
        }
      },
      "outputs": [],
      "source": []
    }
  ],
  "metadata": {
    "colab": {
      "provenance": []
    },
    "kernelspec": {
      "display_name": "R",
      "name": "ir"
    },
    "language_info": {
      "name": "R"
    }
  },
  "nbformat": 4,
  "nbformat_minor": 0
}
