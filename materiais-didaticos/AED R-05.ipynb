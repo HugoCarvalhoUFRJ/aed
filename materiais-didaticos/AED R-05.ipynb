{
  "cells": [
    {
      "cell_type": "markdown",
      "metadata": {
        "id": "fSESop_zu4Ee"
      },
      "source": [
        "# Análise Exploratória de Dados\n",
        "## Hugo Tremonte de Carvalho\n",
        "## `hugo@dme.ufrj.br`"
      ]
    },
    {
      "cell_type": "code",
      "execution_count": null,
      "metadata": {
        "id": "hQ5UayWyuzH6",
        "vscode": {
          "languageId": "r"
        }
      },
      "outputs": [],
      "source": [
        "empresa <- read.table(\"empresa.csv\", dec = \",\", sep = \";\", h = T)"
      ]
    },
    {
      "cell_type": "code",
      "execution_count": null,
      "metadata": {
        "id": "pElDsUIxu6IE",
        "vscode": {
          "languageId": "r"
        }
      },
      "outputs": [],
      "source": [
        "x = c(15, 5, 3, 8, 10, 2, 7, 11, 12, 67) # Uma observação discrepante\n",
        "y = c(15, 5, 3, 8, 10, 2, 7, 11, 12) # Sem observação discrepante\n",
        "z = c(15, 5, 3, 8, 10, 2, 7, 11, 12, 6700) # Uma observação MUITO discrepante\n",
        "w = c(15, 5, 3, 8, 10, 2, 7, 11, 12, 67, 82, 75, 94) # Algumas observações discrepantes\n"
      ]
    },
    {
      "cell_type": "markdown",
      "metadata": {
        "id": "H3WdXxngvJE5"
      },
      "source": [
        "## Quantis: mediana, primeiro e terceiro quartis, boxplot"
      ]
    },
    {
      "cell_type": "code",
      "execution_count": null,
      "metadata": {
        "colab": {
          "base_uri": "https://localhost:8080/",
          "height": 86
        },
        "id": "vijm6SkHvKQw",
        "outputId": "d596c630-3001-4488-ec60-f8c06c9c807e",
        "vscode": {
          "languageId": "r"
        }
      },
      "outputs": [
        {
          "data": {
            "text/html": [
              "9"
            ],
            "text/latex": [
              "9"
            ],
            "text/markdown": [
              "9"
            ],
            "text/plain": [
              "[1] 9"
            ]
          },
          "metadata": {},
          "output_type": "display_data"
        },
        {
          "data": {
            "text/html": [
              "8"
            ],
            "text/latex": [
              "8"
            ],
            "text/markdown": [
              "8"
            ],
            "text/plain": [
              "[1] 8"
            ]
          },
          "metadata": {},
          "output_type": "display_data"
        },
        {
          "data": {
            "text/html": [
              "9"
            ],
            "text/latex": [
              "9"
            ],
            "text/markdown": [
              "9"
            ],
            "text/plain": [
              "[1] 9"
            ]
          },
          "metadata": {},
          "output_type": "display_data"
        },
        {
          "data": {
            "text/html": [
              "11"
            ],
            "text/latex": [
              "11"
            ],
            "text/markdown": [
              "11"
            ],
            "text/plain": [
              "[1] 11"
            ]
          },
          "metadata": {},
          "output_type": "display_data"
        }
      ],
      "source": [
        "median(x)\n",
        "median(y)\n",
        "median(z)\n",
        "median(w)"
      ]
    },
    {
      "cell_type": "markdown",
      "metadata": {
        "id": "emPdlZYAvYnp"
      },
      "source": [
        "Comparando com a média"
      ]
    },
    {
      "cell_type": "code",
      "execution_count": null,
      "metadata": {
        "colab": {
          "base_uri": "https://localhost:8080/",
          "height": 86
        },
        "id": "O01o_yDlvXDK",
        "outputId": "f73027cc-6f8a-4471-b82a-07b9019a4be2",
        "vscode": {
          "languageId": "r"
        }
      },
      "outputs": [
        {
          "data": {
            "text/html": [
              "14"
            ],
            "text/latex": [
              "14"
            ],
            "text/markdown": [
              "14"
            ],
            "text/plain": [
              "[1] 14"
            ]
          },
          "metadata": {},
          "output_type": "display_data"
        },
        {
          "data": {
            "text/html": [
              "8.11111111111111"
            ],
            "text/latex": [
              "8.11111111111111"
            ],
            "text/markdown": [
              "8.11111111111111"
            ],
            "text/plain": [
              "[1] 8.111111"
            ]
          },
          "metadata": {},
          "output_type": "display_data"
        },
        {
          "data": {
            "text/html": [
              "677.3"
            ],
            "text/latex": [
              "677.3"
            ],
            "text/markdown": [
              "677.3"
            ],
            "text/plain": [
              "[1] 677.3"
            ]
          },
          "metadata": {},
          "output_type": "display_data"
        },
        {
          "data": {
            "text/html": [
              "30.0769230769231"
            ],
            "text/latex": [
              "30.0769230769231"
            ],
            "text/markdown": [
              "30.0769230769231"
            ],
            "text/plain": [
              "[1] 30.07692"
            ]
          },
          "metadata": {},
          "output_type": "display_data"
        }
      ],
      "source": [
        "mean(x)\n",
        "mean(y)\n",
        "mean(z)\n",
        "mean(w)"
      ]
    },
    {
      "cell_type": "markdown",
      "metadata": {
        "id": "G_9nbd_fve1y"
      },
      "source": [
        "Comparando os desvios padrão"
      ]
    },
    {
      "cell_type": "code",
      "execution_count": null,
      "metadata": {
        "colab": {
          "base_uri": "https://localhost:8080/",
          "height": 86
        },
        "id": "j0RkrYhOvbCN",
        "outputId": "4b4f070c-7820-4691-a2d5-400362569698",
        "vscode": {
          "languageId": "r"
        }
      },
      "outputs": [
        {
          "data": {
            "text/html": [
              "19.0613046073277"
            ],
            "text/latex": [
              "19.0613046073277"
            ],
            "text/markdown": [
              "19.0613046073277"
            ],
            "text/plain": [
              "[1] 19.0613"
            ]
          },
          "metadata": {},
          "output_type": "display_data"
        },
        {
          "data": {
            "text/html": [
              "4.31405970184826"
            ],
            "text/latex": [
              "4.31405970184826"
            ],
            "text/markdown": [
              "4.31405970184826"
            ],
            "text/plain": [
              "[1] 4.31406"
            ]
          },
          "metadata": {},
          "output_type": "display_data"
        },
        {
          "data": {
            "text/html": [
              "2116.16498254114"
            ],
            "text/latex": [
              "2116.16498254114"
            ],
            "text/markdown": [
              "2116.16498254114"
            ],
            "text/plain": [
              "[1] 2116.165"
            ]
          },
          "metadata": {},
          "output_type": "display_data"
        },
        {
          "data": {
            "text/html": [
              "34.9462957943126"
            ],
            "text/latex": [
              "34.9462957943126"
            ],
            "text/markdown": [
              "34.9462957943126"
            ],
            "text/plain": [
              "[1] 34.9463"
            ]
          },
          "metadata": {},
          "output_type": "display_data"
        }
      ],
      "source": [
        "sd(x)\n",
        "sd(y)\n",
        "sd(z)\n",
        "sd(w)"
      ]
    },
    {
      "cell_type": "markdown",
      "metadata": {
        "id": "k1K-Lehvvjgr"
      },
      "source": [
        "Desvio mediano médio: uma medida de dispersão menos sensível à valores discrepantes"
      ]
    },
    {
      "cell_type": "code",
      "execution_count": null,
      "metadata": {
        "colab": {
          "base_uri": "https://localhost:8080/",
          "height": 86
        },
        "id": "3S4BU2ABvhXq",
        "outputId": "2fba895a-cbaa-48d0-9571-6b313a15dffd",
        "vscode": {
          "languageId": "r"
        }
      },
      "outputs": [
        {
          "data": {
            "text/html": [
              "3.5"
            ],
            "text/latex": [
              "3.5"
            ],
            "text/markdown": [
              "3.5"
            ],
            "text/plain": [
              "[1] 3.5"
            ]
          },
          "metadata": {},
          "output_type": "display_data"
        },
        {
          "data": {
            "text/html": [
              "3"
            ],
            "text/latex": [
              "3"
            ],
            "text/markdown": [
              "3"
            ],
            "text/plain": [
              "[1] 3"
            ]
          },
          "metadata": {},
          "output_type": "display_data"
        },
        {
          "data": {
            "text/html": [
              "3.5"
            ],
            "text/latex": [
              "3.5"
            ],
            "text/markdown": [
              "3.5"
            ],
            "text/plain": [
              "[1] 3.5"
            ]
          },
          "metadata": {},
          "output_type": "display_data"
        },
        {
          "data": {
            "text/html": [
              "6"
            ],
            "text/latex": [
              "6"
            ],
            "text/markdown": [
              "6"
            ],
            "text/plain": [
              "[1] 6"
            ]
          },
          "metadata": {},
          "output_type": "display_data"
        }
      ],
      "source": [
        "median(abs(x - median(x)))\n",
        "median(abs(y - median(y)))\n",
        "median(abs(z - median(z)))\n",
        "median(abs(w - median(w)))"
      ]
    },
    {
      "cell_type": "code",
      "execution_count": null,
      "metadata": {
        "colab": {
          "base_uri": "https://localhost:8080/",
          "height": 69
        },
        "id": "11OWGeejvq43",
        "outputId": "ee3058ec-2980-4b9c-c23d-ad9a7c538996",
        "vscode": {
          "languageId": "r"
        }
      },
      "outputs": [
        {
          "data": {
            "text/html": [
              "<strong>50%:</strong> 9"
            ],
            "text/latex": [
              "\\textbf{50\\textbackslash{}\\%:} 9"
            ],
            "text/markdown": [
              "**50%:** 9"
            ],
            "text/plain": [
              "50% \n",
              "  9 "
            ]
          },
          "metadata": {},
          "output_type": "display_data"
        },
        {
          "data": {
            "text/html": [
              "<strong>25%:</strong> 5.5"
            ],
            "text/latex": [
              "\\textbf{25\\textbackslash{}\\%:} 5.5"
            ],
            "text/markdown": [
              "**25%:** 5.5"
            ],
            "text/plain": [
              "25% \n",
              "5.5 "
            ]
          },
          "metadata": {},
          "output_type": "display_data"
        },
        {
          "data": {
            "text/html": [
              "<strong>75%:</strong> 11.75"
            ],
            "text/latex": [
              "\\textbf{75\\textbackslash{}\\%:} 11.75"
            ],
            "text/markdown": [
              "**75%:** 11.75"
            ],
            "text/plain": [
              "  75% \n",
              "11.75 "
            ]
          },
          "metadata": {},
          "output_type": "display_data"
        }
      ],
      "source": [
        "quantile(x, 0.5) # mediana ou segundo quartil\n",
        "quantile(x, 0.25) # primeiro quartil\n",
        "quantile(x, 0.75) # terceiro quartil"
      ]
    },
    {
      "cell_type": "code",
      "execution_count": null,
      "metadata": {
        "colab": {
          "base_uri": "https://localhost:8080/",
          "height": 69
        },
        "id": "7dX7Fmu3vzQM",
        "outputId": "22fd12a3-6aac-403f-baa9-bd4b4989d9fb",
        "vscode": {
          "languageId": "r"
        }
      },
      "outputs": [
        {
          "data": {
            "text/html": [
              "<strong>50%:</strong> 8"
            ],
            "text/latex": [
              "\\textbf{50\\textbackslash{}\\%:} 8"
            ],
            "text/markdown": [
              "**50%:** 8"
            ],
            "text/plain": [
              "50% \n",
              "  8 "
            ]
          },
          "metadata": {},
          "output_type": "display_data"
        },
        {
          "data": {
            "text/html": [
              "<strong>25%:</strong> 5"
            ],
            "text/latex": [
              "\\textbf{25\\textbackslash{}\\%:} 5"
            ],
            "text/markdown": [
              "**25%:** 5"
            ],
            "text/plain": [
              "25% \n",
              "  5 "
            ]
          },
          "metadata": {},
          "output_type": "display_data"
        },
        {
          "data": {
            "text/html": [
              "<strong>75%:</strong> 11"
            ],
            "text/latex": [
              "\\textbf{75\\textbackslash{}\\%:} 11"
            ],
            "text/markdown": [
              "**75%:** 11"
            ],
            "text/plain": [
              "75% \n",
              " 11 "
            ]
          },
          "metadata": {},
          "output_type": "display_data"
        }
      ],
      "source": [
        "quantile(y, 0.5)\n",
        "quantile(y, 0.25)\n",
        "quantile(y, 0.75)"
      ]
    },
    {
      "cell_type": "code",
      "execution_count": null,
      "metadata": {
        "colab": {
          "base_uri": "https://localhost:8080/",
          "height": 69
        },
        "id": "O_d8b4Cev5NG",
        "outputId": "76cc6e02-0fd6-490b-b51f-c0ca6c1f4438",
        "vscode": {
          "languageId": "r"
        }
      },
      "outputs": [
        {
          "data": {
            "text/html": [
              "<strong>50%:</strong> 9"
            ],
            "text/latex": [
              "\\textbf{50\\textbackslash{}\\%:} 9"
            ],
            "text/markdown": [
              "**50%:** 9"
            ],
            "text/plain": [
              "50% \n",
              "  9 "
            ]
          },
          "metadata": {},
          "output_type": "display_data"
        },
        {
          "data": {
            "text/html": [
              "<strong>25%:</strong> 5.5"
            ],
            "text/latex": [
              "\\textbf{25\\textbackslash{}\\%:} 5.5"
            ],
            "text/markdown": [
              "**25%:** 5.5"
            ],
            "text/plain": [
              "25% \n",
              "5.5 "
            ]
          },
          "metadata": {},
          "output_type": "display_data"
        },
        {
          "data": {
            "text/html": [
              "<strong>75%:</strong> 11.75"
            ],
            "text/latex": [
              "\\textbf{75\\textbackslash{}\\%:} 11.75"
            ],
            "text/markdown": [
              "**75%:** 11.75"
            ],
            "text/plain": [
              "  75% \n",
              "11.75 "
            ]
          },
          "metadata": {},
          "output_type": "display_data"
        }
      ],
      "source": [
        "quantile(z, 0.5)\n",
        "quantile(z, 0.25)\n",
        "quantile(z, 0.75)"
      ]
    },
    {
      "cell_type": "code",
      "execution_count": null,
      "metadata": {
        "colab": {
          "base_uri": "https://localhost:8080/",
          "height": 69
        },
        "id": "mU20uqL4v8Xs",
        "outputId": "035da25f-6fa5-46c8-816f-929fb1f28220",
        "vscode": {
          "languageId": "r"
        }
      },
      "outputs": [
        {
          "data": {
            "text/html": [
              "<strong>50%:</strong> 11"
            ],
            "text/latex": [
              "\\textbf{50\\textbackslash{}\\%:} 11"
            ],
            "text/markdown": [
              "**50%:** 11"
            ],
            "text/plain": [
              "50% \n",
              " 11 "
            ]
          },
          "metadata": {},
          "output_type": "display_data"
        },
        {
          "data": {
            "text/html": [
              "<strong>25%:</strong> 7"
            ],
            "text/latex": [
              "\\textbf{25\\textbackslash{}\\%:} 7"
            ],
            "text/markdown": [
              "**25%:** 7"
            ],
            "text/plain": [
              "25% \n",
              "  7 "
            ]
          },
          "metadata": {},
          "output_type": "display_data"
        },
        {
          "data": {
            "text/html": [
              "<strong>75%:</strong> 67"
            ],
            "text/latex": [
              "\\textbf{75\\textbackslash{}\\%:} 67"
            ],
            "text/markdown": [
              "**75%:** 67"
            ],
            "text/plain": [
              "75% \n",
              " 67 "
            ]
          },
          "metadata": {},
          "output_type": "display_data"
        }
      ],
      "source": [
        "quantile(w, 0.5)\n",
        "quantile(w, 0.25)\n",
        "quantile(w, 0.75)"
      ]
    },
    {
      "cell_type": "code",
      "execution_count": null,
      "metadata": {
        "colab": {
          "base_uri": "https://localhost:8080/",
          "height": 437
        },
        "id": "hmq93PbCv-Gd",
        "outputId": "d3e898c7-460c-42aa-cf2c-2902aaa2a2b2",
        "vscode": {
          "languageId": "r"
        }
      },
      "outputs": [
        {
          "data": {
            "image/png": "[encoded data removed]",
            "text/plain": [
              "plot without title"
            ]
          },
          "metadata": {
            "image/png": {
              "height": 420,
              "width": 420
            }
          },
          "output_type": "display_data"
        }
      ],
      "source": [
        "boxplot(x)"
      ]
    },
    {
      "cell_type": "code",
      "execution_count": null,
      "metadata": {
        "colab": {
          "base_uri": "https://localhost:8080/",
          "height": 437
        },
        "id": "XKB_SesMwB-y",
        "outputId": "d86f5d11-6118-4fb7-99f1-e99f355adccf",
        "vscode": {
          "languageId": "r"
        }
      },
      "outputs": [
        {
          "data": {
            "image/png": "[encoded data removed]",
            "text/plain": [
              "plot without title"
            ]
          },
          "metadata": {
            "image/png": {
              "height": 420,
              "width": 420
            }
          },
          "output_type": "display_data"
        }
      ],
      "source": [
        "boxplot(y)"
      ]
    },
    {
      "cell_type": "code",
      "execution_count": null,
      "metadata": {
        "colab": {
          "base_uri": "https://localhost:8080/",
          "height": 437
        },
        "id": "xnaVForhwCyF",
        "outputId": "c4cc1c48-16f5-4c8f-a120-75acabbc1653",
        "vscode": {
          "languageId": "r"
        }
      },
      "outputs": [
        {
          "data": {
            "image/png": "[encoded data removed]",
            "text/plain": [
              "plot without title"
            ]
          },
          "metadata": {
            "image/png": {
              "height": 420,
              "width": 420
            }
          },
          "output_type": "display_data"
        }
      ],
      "source": [
        "boxplot(z)"
      ]
    },
    {
      "cell_type": "code",
      "execution_count": null,
      "metadata": {
        "colab": {
          "base_uri": "https://localhost:8080/",
          "height": 437
        },
        "id": "pUh2oVl7wDtV",
        "outputId": "d613310a-fc04-419b-8807-46f9584de116",
        "vscode": {
          "languageId": "r"
        }
      },
      "outputs": [
        {
          "data": {
            "image/png": "[encoded data removed]",
            "text/plain": [
              "plot without title"
            ]
          },
          "metadata": {
            "image/png": {
              "height": 420,
              "width": 420
            }
          },
          "output_type": "display_data"
        }
      ],
      "source": [
        "boxplot(w)"
      ]
    },
    {
      "cell_type": "markdown",
      "metadata": {
        "id": "U3EWenaNwILt"
      },
      "source": [
        "Um exemplo com dados reais"
      ]
    },
    {
      "cell_type": "code",
      "execution_count": null,
      "metadata": {
        "colab": {
          "base_uri": "https://localhost:8080/",
          "height": 472
        },
        "id": "Hb4P-3PDwEXs",
        "outputId": "d67b328c-bb05-40e0-8797-1f7db70b9ed3",
        "vscode": {
          "languageId": "r"
        }
      },
      "outputs": [
        {
          "data": {
            "text/html": [
              "11.1222222222222"
            ],
            "text/latex": [
              "11.1222222222222"
            ],
            "text/markdown": [
              "11.1222222222222"
            ],
            "text/plain": [
              "[1] 11.12222"
            ]
          },
          "metadata": {},
          "output_type": "display_data"
        },
        {
          "data": {
            "text/html": [
              "10.165"
            ],
            "text/latex": [
              "10.165"
            ],
            "text/markdown": [
              "10.165"
            ],
            "text/plain": [
              "[1] 10.165"
            ]
          },
          "metadata": {},
          "output_type": "display_data"
        },
        {
          "data": {
            "image/png": "[encoded data removed]",
            "text/plain": [
              "plot without title"
            ]
          },
          "metadata": {
            "image/png": {
              "height": 420,
              "width": 420
            }
          },
          "output_type": "display_data"
        }
      ],
      "source": [
        "mean(empresa$Salario)\n",
        "median(empresa$Salario)\n",
        "boxplot(empresa$Salario)"
      ]
    },
    {
      "cell_type": "code",
      "execution_count": null,
      "metadata": {
        "colab": {
          "base_uri": "https://localhost:8080/",
          "height": 472
        },
        "id": "lihZjnKiwOIg",
        "outputId": "0ee50f51-3e23-459d-df5b-af7908096132",
        "vscode": {
          "languageId": "r"
        }
      },
      "outputs": [
        {
          "data": {
            "text/html": [
              "1.65"
            ],
            "text/latex": [
              "1.65"
            ],
            "text/markdown": [
              "1.65"
            ],
            "text/plain": [
              "[1] 1.65"
            ]
          },
          "metadata": {},
          "output_type": "display_data"
        },
        {
          "data": {
            "text/html": [
              "2"
            ],
            "text/latex": [
              "2"
            ],
            "text/markdown": [
              "2"
            ],
            "text/plain": [
              "[1] 2"
            ]
          },
          "metadata": {},
          "output_type": "display_data"
        },
        {
          "data": {
            "image/png": "[encoded data removed]",
            "text/plain": [
              "plot without title"
            ]
          },
          "metadata": {
            "image/png": {
              "height": 420,
              "width": 420
            }
          },
          "output_type": "display_data"
        }
      ],
      "source": [
        "mean(empresa$Filhos, na.rm = TRUE)\n",
        "median(empresa$Filhos, na.rm = TRUE)\n",
        "boxplot(empresa$Filhos)"
      ]
    }
  ],
  "metadata": {
    "colab": {
      "provenance": []
    },
    "kernelspec": {
      "display_name": "R",
      "name": "ir"
    },
    "language_info": {
      "name": "R"
    }
  },
  "nbformat": 4,
  "nbformat_minor": 0
}
