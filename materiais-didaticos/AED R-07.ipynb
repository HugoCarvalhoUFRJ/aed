{
  "cells": [
    {
      "cell_type": "markdown",
      "metadata": {
        "id": "gsA1_OdAZlhW"
      },
      "source": [
        "# Análise Exploratória de Dados\n",
        "## Hugo Tremonte de Carvalho\n",
        "## `hugo@dme.ufrj.br`"
      ]
    },
    {
      "cell_type": "markdown",
      "metadata": {
        "id": "bcErS6R8bNxd"
      },
      "source": [
        "https://stat.ethz.ch/R-manual/R-devel/library/stats/html/chisq.test.html"
      ]
    },
    {
      "cell_type": "code",
      "execution_count": 9,
      "metadata": {
        "id": "O-csDEwrZjAt",
        "vscode": {
          "languageId": "r"
        }
      },
      "outputs": [],
      "source": [
        "coop <- data.frame(consumidor = c(214, 51, 111),\n",
        "                   produtor = c(237, 102, 304),\n",
        "                   escola = c(78, 126, 139),\n",
        "                   outras = c(119, 22, 48))"
      ]
    },
    {
      "cell_type": "code",
      "execution_count": 10,
      "metadata": {
        "colab": {
          "base_uri": "https://localhost:8080/",
          "height": 192
        },
        "id": "LhskTeQXZpLP",
        "outputId": "f859f9b3-1335-484b-ced7-ed4af60fea9e",
        "vscode": {
          "languageId": "r"
        }
      },
      "outputs": [
        {
          "data": {
            "text/html": [
              "<table class=\"dataframe\">\n",
              "<caption>A data.frame: 3 × 4</caption>\n",
              "<thead>\n",
              "\t<tr><th scope=col>consumidor</th><th scope=col>produtor</th><th scope=col>escola</th><th scope=col>outras</th></tr>\n",
              "\t<tr><th scope=col>&lt;dbl&gt;</th><th scope=col>&lt;dbl&gt;</th><th scope=col>&lt;dbl&gt;</th><th scope=col>&lt;dbl&gt;</th></tr>\n",
              "</thead>\n",
              "<tbody>\n",
              "\t<tr><td>214</td><td>237</td><td> 78</td><td>119</td></tr>\n",
              "\t<tr><td> 51</td><td>102</td><td>126</td><td> 22</td></tr>\n",
              "\t<tr><td>111</td><td>304</td><td>139</td><td> 48</td></tr>\n",
              "</tbody>\n",
              "</table>\n"
            ],
            "text/latex": [
              "A data.frame: 3 × 4\n",
              "\\begin{tabular}{llll}\n",
              " consumidor & produtor & escola & outras\\\\\n",
              " <dbl> & <dbl> & <dbl> & <dbl>\\\\\n",
              "\\hline\n",
              "\t 214 & 237 &  78 & 119\\\\\n",
              "\t  51 & 102 & 126 &  22\\\\\n",
              "\t 111 & 304 & 139 &  48\\\\\n",
              "\\end{tabular}\n"
            ],
            "text/markdown": [
              "\n",
              "A data.frame: 3 × 4\n",
              "\n",
              "| consumidor &lt;dbl&gt; | produtor &lt;dbl&gt; | escola &lt;dbl&gt; | outras &lt;dbl&gt; |\n",
              "|---|---|---|---|\n",
              "| 214 | 237 |  78 | 119 |\n",
              "|  51 | 102 | 126 |  22 |\n",
              "| 111 | 304 | 139 |  48 |\n",
              "\n"
            ],
            "text/plain": [
              "  consumidor produtor escola outras\n",
              "1 214        237       78    119   \n",
              "2  51        102      126     22   \n",
              "3 111        304      139     48   "
            ]
          },
          "metadata": {},
          "output_type": "display_data"
        }
      ],
      "source": [
        "coop"
      ]
    },
    {
      "cell_type": "code",
      "execution_count": 11,
      "metadata": {
        "colab": {
          "base_uri": "https://localhost:8080/",
          "height": 34
        },
        "id": "JpIfuCEYZ34s",
        "outputId": "48dc6b13-895e-497d-a61b-8082182e9973",
        "vscode": {
          "languageId": "r"
        }
      },
      "outputs": [
        {
          "data": {
            "text/html": [
              "<style>\n",
              ".list-inline {list-style: none; margin:0; padding: 0}\n",
              ".list-inline>li {display: inline-block}\n",
              ".list-inline>li:not(:last-child)::after {content: \"\\00b7\"; padding: 0 .5ex}\n",
              "</style>\n",
              "<ol class=list-inline><li>'1'</li><li>'2'</li><li>'3'</li></ol>\n"
            ],
            "text/latex": [
              "\\begin{enumerate*}\n",
              "\\item '1'\n",
              "\\item '2'\n",
              "\\item '3'\n",
              "\\end{enumerate*}\n"
            ],
            "text/markdown": [
              "1. '1'\n",
              "2. '2'\n",
              "3. '3'\n",
              "\n",
              "\n"
            ],
            "text/plain": [
              "[1] \"1\" \"2\" \"3\""
            ]
          },
          "metadata": {},
          "output_type": "display_data"
        }
      ],
      "source": [
        "rownames(coop)"
      ]
    },
    {
      "cell_type": "code",
      "execution_count": 12,
      "metadata": {
        "id": "PWXLGYDtaBnD",
        "vscode": {
          "languageId": "r"
        }
      },
      "outputs": [],
      "source": [
        "rownames(coop) <- c('SP', 'PR', 'RS')"
      ]
    },
    {
      "cell_type": "code",
      "execution_count": 13,
      "metadata": {
        "colab": {
          "base_uri": "https://localhost:8080/",
          "height": 192
        },
        "id": "KFSVL3hZaF_5",
        "outputId": "e842b401-0e1f-4b9d-c1e1-ea451a71df9d",
        "vscode": {
          "languageId": "r"
        }
      },
      "outputs": [
        {
          "data": {
            "text/html": [
              "<table class=\"dataframe\">\n",
              "<caption>A data.frame: 3 × 4</caption>\n",
              "<thead>\n",
              "\t<tr><th></th><th scope=col>consumidor</th><th scope=col>produtor</th><th scope=col>escola</th><th scope=col>outras</th></tr>\n",
              "\t<tr><th></th><th scope=col>&lt;dbl&gt;</th><th scope=col>&lt;dbl&gt;</th><th scope=col>&lt;dbl&gt;</th><th scope=col>&lt;dbl&gt;</th></tr>\n",
              "</thead>\n",
              "<tbody>\n",
              "\t<tr><th scope=row>SP</th><td>214</td><td>237</td><td> 78</td><td>119</td></tr>\n",
              "\t<tr><th scope=row>PR</th><td> 51</td><td>102</td><td>126</td><td> 22</td></tr>\n",
              "\t<tr><th scope=row>RS</th><td>111</td><td>304</td><td>139</td><td> 48</td></tr>\n",
              "</tbody>\n",
              "</table>\n"
            ],
            "text/latex": [
              "A data.frame: 3 × 4\n",
              "\\begin{tabular}{r|llll}\n",
              "  & consumidor & produtor & escola & outras\\\\\n",
              "  & <dbl> & <dbl> & <dbl> & <dbl>\\\\\n",
              "\\hline\n",
              "\tSP & 214 & 237 &  78 & 119\\\\\n",
              "\tPR &  51 & 102 & 126 &  22\\\\\n",
              "\tRS & 111 & 304 & 139 &  48\\\\\n",
              "\\end{tabular}\n"
            ],
            "text/markdown": [
              "\n",
              "A data.frame: 3 × 4\n",
              "\n",
              "| <!--/--> | consumidor &lt;dbl&gt; | produtor &lt;dbl&gt; | escola &lt;dbl&gt; | outras &lt;dbl&gt; |\n",
              "|---|---|---|---|---|\n",
              "| SP | 214 | 237 |  78 | 119 |\n",
              "| PR |  51 | 102 | 126 |  22 |\n",
              "| RS | 111 | 304 | 139 |  48 |\n",
              "\n"
            ],
            "text/plain": [
              "   consumidor produtor escola outras\n",
              "SP 214        237       78    119   \n",
              "PR  51        102      126     22   \n",
              "RS 111        304      139     48   "
            ]
          },
          "metadata": {},
          "output_type": "display_data"
        }
      ],
      "source": [
        "coop"
      ]
    },
    {
      "cell_type": "code",
      "execution_count": 14,
      "metadata": {
        "colab": {
          "base_uri": "https://localhost:8080/",
          "height": 104
        },
        "id": "cm-NaZx9aIzW",
        "outputId": "aeb7b771-c4af-4a92-f85d-8567f6caaa61",
        "vscode": {
          "languageId": "r"
        }
      },
      "outputs": [
        {
          "data": {
            "text/plain": [
              "\n",
              "\tPearson's Chi-squared test\n",
              "\n",
              "data:  coop\n",
              "X-squared = 173.38, df = 6, p-value < 2.2e-16\n"
            ]
          },
          "metadata": {},
          "output_type": "display_data"
        }
      ],
      "source": [
        "chisq.test(coop)"
      ]
    },
    {
      "cell_type": "markdown",
      "metadata": {
        "id": "IrLwepfmaukW"
      },
      "source": [
        "Com nossa base de dados"
      ]
    },
    {
      "cell_type": "code",
      "execution_count": 15,
      "metadata": {
        "id": "TEQ7rAZkai0n",
        "vscode": {
          "languageId": "r"
        }
      },
      "outputs": [],
      "source": [
        "empresa <- read.table(\"empresa.csv\", dec = \",\", sep = \";\", h = T)"
      ]
    },
    {
      "cell_type": "code",
      "execution_count": 17,
      "metadata": {
        "colab": {
          "base_uri": "https://localhost:8080/",
          "height": 286
        },
        "id": "Or7wE3W2ayq8",
        "outputId": "09571a8c-5809-4bce-82bc-4b2d70d53d0e",
        "vscode": {
          "languageId": "r"
        }
      },
      "outputs": [
        {
          "data": {
            "text/html": [
              "<table class=\"dataframe\">\n",
              "<caption>A data.frame: 6 × 7</caption>\n",
              "<thead>\n",
              "\t<tr><th></th><th scope=col>EstadoCivil</th><th scope=col>GrauInstrucao</th><th scope=col>Filhos</th><th scope=col>Salario</th><th scope=col>IdadeAnos</th><th scope=col>IdadeMeses</th><th scope=col>Regiao</th></tr>\n",
              "\t<tr><th></th><th scope=col>&lt;chr&gt;</th><th scope=col>&lt;chr&gt;</th><th scope=col>&lt;int&gt;</th><th scope=col>&lt;dbl&gt;</th><th scope=col>&lt;int&gt;</th><th scope=col>&lt;int&gt;</th><th scope=col>&lt;chr&gt;</th></tr>\n",
              "</thead>\n",
              "<tbody>\n",
              "\t<tr><th scope=row>1</th><td>solteiro</td><td>ensino fundamental</td><td>NA</td><td>4.00</td><td>26</td><td> 3</td><td>interior</td></tr>\n",
              "\t<tr><th scope=row>2</th><td>casado  </td><td>ensino fundamental</td><td> 1</td><td>4.56</td><td>32</td><td>10</td><td>capital </td></tr>\n",
              "\t<tr><th scope=row>3</th><td>casado  </td><td>ensino fundamental</td><td> 2</td><td>5.25</td><td>36</td><td> 5</td><td>capital </td></tr>\n",
              "\t<tr><th scope=row>4</th><td>solteiro</td><td>ensino medio      </td><td>NA</td><td>5.73</td><td>20</td><td>10</td><td>outra   </td></tr>\n",
              "\t<tr><th scope=row>5</th><td>solteiro</td><td>ensino fundamental</td><td>NA</td><td>6.26</td><td>40</td><td> 7</td><td>outra   </td></tr>\n",
              "\t<tr><th scope=row>6</th><td>casado  </td><td>ensino fundamental</td><td> 0</td><td>6.66</td><td>28</td><td> 0</td><td>interior</td></tr>\n",
              "</tbody>\n",
              "</table>\n"
            ],
            "text/latex": [
              "A data.frame: 6 × 7\n",
              "\\begin{tabular}{r|lllllll}\n",
              "  & EstadoCivil & GrauInstrucao & Filhos & Salario & IdadeAnos & IdadeMeses & Regiao\\\\\n",
              "  & <chr> & <chr> & <int> & <dbl> & <int> & <int> & <chr>\\\\\n",
              "\\hline\n",
              "\t1 & solteiro & ensino fundamental & NA & 4.00 & 26 &  3 & interior\\\\\n",
              "\t2 & casado   & ensino fundamental &  1 & 4.56 & 32 & 10 & capital \\\\\n",
              "\t3 & casado   & ensino fundamental &  2 & 5.25 & 36 &  5 & capital \\\\\n",
              "\t4 & solteiro & ensino medio       & NA & 5.73 & 20 & 10 & outra   \\\\\n",
              "\t5 & solteiro & ensino fundamental & NA & 6.26 & 40 &  7 & outra   \\\\\n",
              "\t6 & casado   & ensino fundamental &  0 & 6.66 & 28 &  0 & interior\\\\\n",
              "\\end{tabular}\n"
            ],
            "text/markdown": [
              "\n",
              "A data.frame: 6 × 7\n",
              "\n",
              "| <!--/--> | EstadoCivil &lt;chr&gt; | GrauInstrucao &lt;chr&gt; | Filhos &lt;int&gt; | Salario &lt;dbl&gt; | IdadeAnos &lt;int&gt; | IdadeMeses &lt;int&gt; | Regiao &lt;chr&gt; |\n",
              "|---|---|---|---|---|---|---|---|\n",
              "| 1 | solteiro | ensino fundamental | NA | 4.00 | 26 |  3 | interior |\n",
              "| 2 | casado   | ensino fundamental |  1 | 4.56 | 32 | 10 | capital  |\n",
              "| 3 | casado   | ensino fundamental |  2 | 5.25 | 36 |  5 | capital  |\n",
              "| 4 | solteiro | ensino medio       | NA | 5.73 | 20 | 10 | outra    |\n",
              "| 5 | solteiro | ensino fundamental | NA | 6.26 | 40 |  7 | outra    |\n",
              "| 6 | casado   | ensino fundamental |  0 | 6.66 | 28 |  0 | interior |\n",
              "\n"
            ],
            "text/plain": [
              "  EstadoCivil GrauInstrucao      Filhos Salario IdadeAnos IdadeMeses Regiao  \n",
              "1 solteiro    ensino fundamental NA     4.00    26         3         interior\n",
              "2 casado      ensino fundamental  1     4.56    32        10         capital \n",
              "3 casado      ensino fundamental  2     5.25    36         5         capital \n",
              "4 solteiro    ensino medio       NA     5.73    20        10         outra   \n",
              "5 solteiro    ensino fundamental NA     6.26    40         7         outra   \n",
              "6 casado      ensino fundamental  0     6.66    28         0         interior"
            ]
          },
          "metadata": {},
          "output_type": "display_data"
        }
      ],
      "source": [
        "head(empresa)"
      ]
    },
    {
      "cell_type": "code",
      "execution_count": 19,
      "metadata": {
        "colab": {
          "base_uri": "https://localhost:8080/",
          "height": 104
        },
        "id": "VMhwn90Ka152",
        "outputId": "64bb7aa2-d168-40b1-fa38-b81c28e707a2",
        "vscode": {
          "languageId": "r"
        }
      },
      "outputs": [
        {
          "data": {
            "text/plain": [
              "                    \n",
              "                     capital interior outra\n",
              "  ensino fundamental       4        3     5\n",
              "  ensino medio             5        7     6\n",
              "  superior                 2        2     2"
            ]
          },
          "metadata": {},
          "output_type": "display_data"
        }
      ],
      "source": [
        "table(empresa$GrauInstrucao, empresa$Regiao)"
      ]
    },
    {
      "cell_type": "code",
      "execution_count": 20,
      "metadata": {
        "colab": {
          "base_uri": "https://localhost:8080/",
          "height": 138
        },
        "id": "NRKSQc1Ca-ri",
        "outputId": "d329ab1d-7a79-48a7-9650-580615ebdf36",
        "vscode": {
          "languageId": "r"
        }
      },
      "outputs": [
        {
          "name": "stderr",
          "output_type": "stream",
          "text": [
            "Warning message in chisq.test(table(empresa$GrauInstrucao, empresa$Regiao)):\n",
            "“Chi-squared approximation may be incorrect”\n"
          ]
        },
        {
          "data": {
            "text/plain": [
              "\n",
              "\tPearson's Chi-squared test\n",
              "\n",
              "data:  table(empresa$GrauInstrucao, empresa$Regiao)\n",
              "X-squared = 0.66142, df = 4, p-value = 0.956\n"
            ]
          },
          "metadata": {},
          "output_type": "display_data"
        }
      ],
      "source": [
        "chisq.test(table(empresa$GrauInstrucao, empresa$Regiao)) # Poucas observações!"
      ]
    },
    {
      "cell_type": "code",
      "execution_count": 21,
      "metadata": {
        "colab": {
          "base_uri": "https://localhost:8080/",
          "height": 86
        },
        "id": "2Q1CjVE7bCxY",
        "outputId": "43b8c4e1-41e5-4983-8490-410d8cd50711",
        "vscode": {
          "languageId": "r"
        }
      },
      "outputs": [
        {
          "data": {
            "text/plain": [
              "          \n",
              "           ensino fundamental ensino medio superior\n",
              "  casado                    5           12        3\n",
              "  solteiro                  7            6        3"
            ]
          },
          "metadata": {},
          "output_type": "display_data"
        }
      ],
      "source": [
        "table(empresa$EstadoCivil, empresa$GrauInstrucao)"
      ]
    },
    {
      "cell_type": "code",
      "execution_count": 23,
      "metadata": {
        "colab": {
          "base_uri": "https://localhost:8080/",
          "height": 121
        },
        "id": "a2BpjYt0bHI1",
        "outputId": "fcf7d28f-97f1-4315-e473-cd59ba2e7312",
        "vscode": {
          "languageId": "r"
        }
      },
      "outputs": [
        {
          "data": {
            "text/plain": [
              "\n",
              "\tPearson's Chi-squared test with simulated p-value (based on 2000\n",
              "\treplicates)\n",
              "\n",
              "data:  table(empresa$EstadoCivil, empresa$GrauInstrucao)\n",
              "X-squared = 1.9125, df = NA, p-value = 0.3913\n"
            ]
          },
          "metadata": {},
          "output_type": "display_data"
        }
      ],
      "source": [
        "chisq.test(table(empresa$EstadoCivil, empresa$GrauInstrucao)) # Poucas observações!"
      ]
    }
  ],
  "metadata": {
    "colab": {
      "provenance": []
    },
    "kernelspec": {
      "display_name": "R",
      "name": "ir"
    },
    "language_info": {
      "name": "R"
    }
  },
  "nbformat": 4,
  "nbformat_minor": 0
}
